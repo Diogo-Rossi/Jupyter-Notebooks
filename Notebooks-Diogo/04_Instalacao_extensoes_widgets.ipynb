{
 "cells": [
  {
   "cell_type": "markdown",
   "metadata": {},
   "source": [
    "# Configuração das extensões do Jupyter Notebook\n",
    "\n",
    "Primeiramente, instalar a distribuição **Anaconda (Python 3.7)** na versão mais atual (2019.10) (https://www.anaconda.com/distribution/)\n",
    "\n",
    "Essa distribuição já instala o \"**Jupyter Notebook**\" com a extensão \"**Jupyter Widgets**\" (ipywidgets) instalada e ativada.\n",
    "\n",
    "Caso não estivesse instalada e ativada, seguir o procedimento em: https://ipywidgets.readthedocs.io/en/latest/user_install.html\n",
    "\n",
    "Essa extensão permite executar códigos iterativos, como o presente abaixo:"
   ]
  },
  {
   "cell_type": "code",
   "execution_count": 1,
   "metadata": {},
   "outputs": [
    {
     "data": {
      "application/vnd.jupyter.widget-view+json": {
       "model_id": "02e29401e997438a81fdfb7465c54712",
       "version_major": 2,
       "version_minor": 0
      },
      "text/plain": [
       "interactive(children=(IntSlider(value=6, description='w', max=12), Output()), _dom_classes=('widget-interact',…"
      ]
     },
     "metadata": {},
     "output_type": "display_data"
    }
   ],
   "source": [
    "import numpy as np\n",
    "import matplotlib.pyplot as plt\n",
    "from ipywidgets import interactive\n",
    "x = np.linspace(0,np.pi,100)\n",
    "def Grafico(w):\n",
    "    y = np.sin(w*x)\n",
    "    plt.plot(x,y)\n",
    "    plt.show()\n",
    "    \n",
    "q = interactive(Grafico,w=(0,12))\n",
    "q"
   ]
  },
  {
   "cell_type": "markdown",
   "metadata": {},
   "source": [
    "## Instalar outras extensões\n",
    "\n",
    "Instalar o pacote **Jupyter notebook extensions** (``jupyter_contrib_nbextensions``), disponível no repositório abaixo:\n",
    "\n",
    "> https://github.com/ipython-contrib/jupyter_contrib_nbextensions\n",
    "\n",
    "Para instalar o pacote, usar o comando abaixo:\n",
    "\n",
    "> `conda install -c conda-forge jupyter_contrib_nbextensions`\n",
    "\n",
    "### Observações\n",
    "\n",
    "* O parâmetro ``-c`` escolhe o canal ``conda-forge`` explicitamente\n",
    "* Este pacote já instala a extensão \"**Jupyter Nbextensions Configurator**\" (https://github.com/Jupyter-contrib/jupyter_nbextensions_configurator) a qual permite ativar ou desativar as demais extensões através do menu presente na tab \"**Nbextensions**\", como na figura abaixo.\n",
    "* Algumas extensões já vêm ativadas por padrão, como na figura abaixo (a exemplo da ``ipywidgets``)\n",
    "\n",
    "![](Figuras\\Anotação-2020-02-07-192656.png)"
   ]
  },
  {
   "cell_type": "markdown",
   "metadata": {},
   "source": [
    "## Instalar a biblioteca plotly\n",
    "\n",
    "Usar o comando:\n",
    "\n",
    ">``conda install ploty``\n",
    "\n",
    "Essa biblioteca também permite executar códigos iterativos, uma vez tendo a ``ipywidgets``, como o presente abaixo:"
   ]
  },
  {
   "cell_type": "code",
   "execution_count": 2,
   "metadata": {},
   "outputs": [
    {
     "data": {
      "application/vnd.jupyter.widget-view+json": {
       "model_id": "43b26f8cdfb3437eb7176a88dfdd8084",
       "version_major": 2,
       "version_minor": 0
      },
      "text/plain": [
       "interactive(children=(IntSlider(value=6, description='w', max=12), Output()), _dom_classes=('widget-interact',…"
      ]
     },
     "metadata": {},
     "output_type": "display_data"
    }
   ],
   "source": [
    "import numpy as np\n",
    "from ipywidgets import interactive\n",
    "import plotly.graph_objects as go\n",
    "x = np.linspace(0,np.pi,100)\n",
    "def GraficoPlotly(w):\n",
    "    y = np.sin(w*x)\n",
    "    dados = go.Scatter(x=x,y=y)\n",
    "    fig = go.FigureWidget(dados)\n",
    "    fig.show()\n",
    "\n",
    "r = interactive(GraficoPlotly,w=(0,12))\n",
    "r"
   ]
  },
  {
   "cell_type": "markdown",
   "metadata": {},
   "source": [
    "## Extensão plotly widget\n",
    "\n",
    "A instalação da biblioteca \"**plotly**\" já instala a extensão \"**plotly widget**\" como mostrada na figura abaixo\n",
    "\n",
    "Aparentemente, essa extensão é necessária para executar alguns códigos iterativos com a biblioteca \"**Plotly**\" como as usadas em:\n",
    "\n",
    "> https://plot.ly/python/selection-events/\n",
    "\n",
    "![](Figuras\\Anotação-2020-02-09-173950.png)"
   ]
  }
 ],
 "metadata": {
  "kernelspec": {
   "display_name": "Python 3",
   "language": "python",
   "name": "python3"
  },
  "language_info": {
   "codemirror_mode": {
    "name": "ipython",
    "version": 3
   },
   "file_extension": ".py",
   "mimetype": "text/x-python",
   "name": "python",
   "nbconvert_exporter": "python",
   "pygments_lexer": "ipython3",
   "version": "3.7.6"
  },
  "toc": {
   "base_numbering": 1,
   "nav_menu": {},
   "number_sections": true,
   "sideBar": true,
   "skip_h1_title": false,
   "title_cell": "Table of Contents",
   "title_sidebar": "Contents",
   "toc_cell": false,
   "toc_position": {},
   "toc_section_display": true,
   "toc_window_display": false
  }
 },
 "nbformat": 4,
 "nbformat_minor": 4
}
