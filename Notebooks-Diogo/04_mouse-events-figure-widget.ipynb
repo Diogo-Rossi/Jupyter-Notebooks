{
 "cells": [
  {
   "cell_type": "markdown",
   "metadata": {},
   "source": [
    "#### New to Plotly?\n",
    "Plotly's Python library is free and open source! [Get started](https://plot.ly/python/getting-started/) by downloading the client and [reading the primer](https://plot.ly/python/getting-started/).\n",
    "<br>You can set up Plotly to work in [online](https://plot.ly/python/getting-started/#initialization-for-online-plotting) or [offline](https://plot.ly/python/getting-started/#initialization-for-offline-plotting) mode, or in [jupyter notebooks](https://plot.ly/python/getting-started/#start-plotting-online).\n",
    "<br>We also have a quick-reference [cheatsheet](https://images.plot.ly/plotly-documentation/images/python_cheat_sheet.pdf) (new!) to help you get started!"
   ]
  },
  {
   "cell_type": "markdown",
   "metadata": {},
   "source": [
    "#### Populate a Table Using a Plotly Mouse Selection Event"
   ]
  },
  {
   "cell_type": "code",
   "execution_count": 4,
   "metadata": {},
   "outputs": [
    {
     "data": {
      "application/vnd.jupyter.widget-view+json": {
       "model_id": "d1f8c51f283b4a34853bc5f121b37c18",
       "version_major": 2,
       "version_minor": 0
      },
      "text/plain": [
       "FigureWidget({\n",
       "    'data': [{'marker': {'opacity': 0.5},\n",
       "              'mode': 'markers',\n",
       "              'type'…"
      ]
     },
     "metadata": {},
     "output_type": "display_data"
    },
    {
     "name": "stdout",
     "output_type": "stream",
     "text": [
      "diogo\n",
      "diogo\n",
      "diogo\n"
     ]
    }
   ],
   "source": [
    "import pandas as pd\n",
    "import plotly.graph_objs as go\n",
    "import plotly.offline as py\n",
    "import numpy as np\n",
    "from ipywidgets import interactive, HBox, VBox\n",
    "# py.init_notebook_mode()\n",
    "\n",
    "df = pd.read_csv('cars.csv')\n",
    "\n",
    "f = go.FigureWidget([go.Scatter(y = df['City mpg'], x = df['City mpg'], mode = 'markers')])\n",
    "scatter = f.data[0]\n",
    "N = len(df)\n",
    "scatter.x = scatter.x + np.random.rand(N)/10 *(df['City mpg'].max() - df['City mpg'].min())\n",
    "scatter.y = scatter.y + np.random.rand(N)/10 *(df['City mpg'].max() - df['City mpg'].min())\n",
    "scatter.marker.opacity = 0.5\n",
    "\n",
    "def update_axes(xaxis, yaxis):\n",
    "    scatter = f.data[0]\n",
    "    scatter.x = df[xaxis]\n",
    "    scatter.y = df[yaxis]\n",
    "    with f.batch_update():\n",
    "        f.layout.xaxis.title = xaxis\n",
    "        f.layout.yaxis.title = yaxis\n",
    "        scatter.x = scatter.x + np.random.rand(N)/10 *(df[xaxis].max() - df[xaxis].min())\n",
    "        scatter.y = scatter.y + np.random.rand(N)/10 *(df[yaxis].max() - df[yaxis].min())\n",
    "    \n",
    "axis_dropdowns = interactive(update_axes, yaxis = df.select_dtypes('int64').columns, xaxis = df.select_dtypes('int64').columns)\n",
    "\n",
    "# Create a table FigureWidget that updates on selection from points in the scatter plot of f\n",
    "t = go.FigureWidget([go.Table(\n",
    "    header=dict(values=['ID','Classification','Driveline','Hybrid'],\n",
    "                fill = dict(color='#C2D4FF'),\n",
    "                align = ['left'] * 5),\n",
    "    cells=dict(values=[df[col] for col in ['ID','Classification','Driveline','Hybrid']],\n",
    "               fill = dict(color='#F5F8FF'),\n",
    "               align = ['left'] * 5))])\n",
    "\n",
    "def selection_fn(trace,points,selector):\n",
    "    print(\"diogo\")\n",
    "    t.data[0].cells.values = [df.loc[points.point_inds][col] for col in ['ID','Classification','Driveline','Hybrid']]\n",
    "\n",
    "scatter.on_selection(selection_fn)\n",
    "\n",
    "# Put everything together\n",
    "ttt = VBox((HBox(axis_dropdowns.children),f,t))\n",
    "f"
   ]
  }
 ],
 "metadata": {
  "kernelspec": {
   "display_name": "Python 3",
   "language": "python",
   "name": "python3"
  },
  "language_info": {
   "codemirror_mode": {
    "name": "ipython",
    "version": 3
   },
   "file_extension": ".py",
   "mimetype": "text/x-python",
   "name": "python",
   "nbconvert_exporter": "python",
   "pygments_lexer": "ipython3",
   "version": "3.7.6"
  }
 },
 "nbformat": 4,
 "nbformat_minor": 2
}
