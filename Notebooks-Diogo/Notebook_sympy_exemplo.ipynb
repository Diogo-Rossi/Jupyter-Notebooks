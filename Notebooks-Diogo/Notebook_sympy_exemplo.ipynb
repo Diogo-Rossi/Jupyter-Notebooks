{
 "cells": [
  {
   "cell_type": "code",
   "execution_count": 1,
   "metadata": {},
   "outputs": [],
   "source": [
    "from sympy import symbols, sqrt, pretty\n",
    "from sympy import init_printing\n",
    "from sympy.abc import pi, lamda, nu, rho\n",
    "init_printing(use_latex=True)\n",
    "E,K,G,M = symbols('E,K,G,M', real=True, positive=True)\n",
    "v = symbols(pretty(nu), real=True, positive=True)\n",
    "k = sympy.symols('k')\n",
    "p = symbols(pretty(rho), real=True, positive=True)\n",
    "L = symbols(pretty(lamda), real=True, positive=True)\n",
    "Vp = symbols(pretty(symbols('V_p')), real=True, positive=True)\n",
    "Vs = symbols(pretty(symbols('V_s')), real=True, positive=True)"
   ]
  },
  {
   "cell_type": "code",
   "execution_count": 2,
   "metadata": {},
   "outputs": [
    {
     "name": "stderr",
     "output_type": "stream",
     "text": [
      "C:\\Users\\bh1r\\_Python\\Anaconda3\\lib\\site-packages\\IPython\\lib\\latextools.py:126: MatplotlibDeprecationWarning: \n",
      "The to_png function was deprecated in Matplotlib 3.4 and will be removed two minor releases later. Use mathtext.math_to_image instead.\n",
      "  mt.to_png(f, s, fontsize=12, dpi=dpi, color=color)\n",
      "C:\\Users\\bh1r\\_Python\\Anaconda3\\lib\\site-packages\\IPython\\lib\\latextools.py:126: MatplotlibDeprecationWarning: \n",
      "The to_rgba function was deprecated in Matplotlib 3.4 and will be removed two minor releases later. Use mathtext.math_to_image instead.\n",
      "  mt.to_png(f, s, fontsize=12, dpi=dpi, color=color)\n",
      "C:\\Users\\bh1r\\_Python\\Anaconda3\\lib\\site-packages\\IPython\\lib\\latextools.py:126: MatplotlibDeprecationWarning: \n",
      "The to_mask function was deprecated in Matplotlib 3.4 and will be removed two minor releases later. Use mathtext.math_to_image instead.\n",
      "  mt.to_png(f, s, fontsize=12, dpi=dpi, color=color)\n",
      "C:\\Users\\bh1r\\_Python\\Anaconda3\\lib\\site-packages\\IPython\\lib\\latextools.py:126: MatplotlibDeprecationWarning: \n",
      "The MathtextBackendBitmap class was deprecated in Matplotlib 3.4 and will be removed two minor releases later. Use mathtext.math_to_image instead.\n",
      "  mt.to_png(f, s, fontsize=12, dpi=dpi, color=color)\n"
     ]
    },
    {
     "data": {
      "image/png": "[encoded data removed]",
      "text/latex": [
       "$\\displaystyle λ$"
      ],
      "text/plain": [
       "λ"
      ]
     },
     "execution_count": 2,
     "metadata": {},
     "output_type": "execute_result"
    }
   ],
   "source": [
    "# Exibe lambda\n",
    "L"
   ]
  },
  {
   "cell_type": "code",
   "execution_count": 3,
   "metadata": {},
   "outputs": [
    {
     "data": {
      "image/png": "[encoded data removed]",
      "text/latex": [
       "$\\displaystyle \\frac{Vₚ}{2 \\sqrt{E + 2 λ} \\sqrt{\\frac{1}{3 E + 3 λ - \\sqrt{E^{2} + 2 E λ + 9 λ^{2}}}}}$"
      ],
      "text/plain": [
       "                           Vₚ                           \n",
       "────────────────────────────────────────────────────────\n",
       "                    ____________________________________\n",
       "    _________      ╱                 1                  \n",
       "2⋅╲╱ E + 2⋅λ ⋅    ╱  ────────────────────────────────── \n",
       "                 ╱                  ___________________ \n",
       "                ╱                  ╱  2              2  \n",
       "              ╲╱     3⋅E + 3⋅λ - ╲╱  E  + 2⋅E⋅λ + 9⋅λ   "
      ]
     },
     "execution_count": 3,
     "metadata": {},
     "output_type": "execute_result"
    }
   ],
   "source": [
    "# Exibe a formula\n",
    "Formula = Vp/(2*sqrt(E + 2*L)*sqrt(1/(3*E + 3*L - sqrt(E**2 + 2*E*L + 9*L**2))))\n",
    "Formula\n"
   ]
  },
  {
   "cell_type": "code",
   "execution_count": 5,
   "metadata": {},
   "outputs": [
    {
     "name": "stdout",
     "output_type": "stream",
     "text": [
      "π\n"
     ]
    }
   ],
   "source": [
    "import sympy\n",
    "sympy.pprint(pi)"
   ]
  },
  {
   "cell_type": "code",
   "execution_count": 6,
   "metadata": {},
   "outputs": [
    {
     "data": {
      "text/plain": [
       "'\\\\frac{Vₚ}{2 \\\\sqrt{E + 2 λ} \\\\sqrt{\\\\frac{1}{3 E + 3 λ - \\\\sqrt{E^{2} + 2 E λ + 9 λ^{2}}}}}'"
      ]
     },
     "execution_count": 6,
     "metadata": {},
     "output_type": "execute_result"
    }
   ],
   "source": [
    "sympy.latex(Formula)"
   ]
  },
  {
   "cell_type": "code",
   "execution_count": 5,
   "metadata": {},
   "outputs": [
    {
     "data": {
      "text/html": [
       "<div>\n",
       "<style scoped>\n",
       "    .dataframe tbody tr th:only-of-type {\n",
       "        vertical-align: middle;\n",
       "    }\n",
       "\n",
       "    .dataframe tbody tr th {\n",
       "        vertical-align: top;\n",
       "    }\n",
       "\n",
       "    .dataframe thead th {\n",
       "        text-align: right;\n",
       "    }\n",
       "</style>\n",
       "<table border=\"1\" class=\"dataframe\">\n",
       "  <thead>\n",
       "    <tr style=\"text-align: right;\">\n",
       "      <th></th>\n",
       "      <th>0</th>\n",
       "    </tr>\n",
       "  </thead>\n",
       "  <tbody>\n",
       "    <tr>\n",
       "      <th>0</th>\n",
       "      <td>Vₚ/(2*sqrt(E + 2*λ)*sqrt(1/(3*E + 3*λ - sqrt(E...</td>\n",
       "    </tr>\n",
       "  </tbody>\n",
       "</table>\n",
       "</div>"
      ],
      "text/plain": [
       "                                                   0\n",
       "0  Vₚ/(2*sqrt(E + 2*λ)*sqrt(1/(3*E + 3*λ - sqrt(E..."
      ]
     },
     "execution_count": 5,
     "metadata": {},
     "output_type": "execute_result"
    }
   ],
   "source": [
    "# O dataframe não preserva os símbolos\n",
    "import pandas as pd\n",
    "pd.DataFrame([Formula])"
   ]
  },
  {
   "cell_type": "code",
   "execution_count": 7,
   "metadata": {},
   "outputs": [],
   "source": [
    "L = symbols('\\lambda')"
   ]
  },
  {
   "cell_type": "code",
   "execution_count": 9,
   "metadata": {},
   "outputs": [
    {
     "data": {
      "text/plain": [
       "'\\\\lambda'"
      ]
     },
     "execution_count": 9,
     "metadata": {},
     "output_type": "execute_result"
    }
   ],
   "source": [
    "sympy.latex(L)"
   ]
  },
  {
   "cell_type": "code",
   "execution_count": null,
   "metadata": {},
   "outputs": [],
   "source": []
  }
 ],
 "metadata": {
  "interpreter": {
   "hash": "1359610c268fcd310aeb979c518fab0e221e6b40f568a34f6bf221418055c988"
  },
  "kernelspec": {
   "display_name": "Python 3 (ipykernel)",
   "language": "python",
   "name": "python3"
  },
  "language_info": {
   "codemirror_mode": {
    "name": "ipython",
    "version": 3
   },
   "file_extension": ".py",
   "mimetype": "text/x-python",
   "name": "python",
   "nbconvert_exporter": "python",
   "pygments_lexer": "ipython3",
   "version": "3.8.8"
  }
 },
 "nbformat": 4,
 "nbformat_minor": 4
}
