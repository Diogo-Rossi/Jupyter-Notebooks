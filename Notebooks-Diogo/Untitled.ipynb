{
 "cells": [
  {
   "cell_type": "markdown",
   "metadata": {},
   "source": [
    "Passar argumentos como keywords usando dicionários (Ex: ```a = f(**d)```) para uma função que é declarada com argumentos fixos (nomeados) antes de argumentos de número variável do tipo keyword (que entram na função como dicionário, Ex: ```def f(a,b,**x):```) e onde **algumas das chaves dos argumentos passados são nomes dos argumentos fixos declarados na função** → tem o efeito de retirar esses argumentos do dicionário que entra na função."
   ]
  },
  {
   "cell_type": "code",
   "execution_count": 1,
   "metadata": {},
   "outputs": [],
   "source": [
    "# Ex: função que é declarada com argumentos fixos (nomeados) antes de argumentos de número variável do tipo keyword\n",
    "def f(a,b,**x):\n",
    "    print(\"a =\",a)\n",
    "    print(\"b =\",b)\n",
    "    print(\"x =\",x)"
   ]
  },
  {
   "cell_type": "code",
   "execution_count": 2,
   "metadata": {},
   "outputs": [
    {
     "name": "stdout",
     "output_type": "stream",
     "text": [
      "a = 8\n",
      "b = 9\n",
      "x = {'e': 5, 'k': 9, 'h': 32}\n"
     ]
    }
   ],
   "source": [
    "# Uso comum da função: argumentos fixos passados (neste caso, como positional) e argumentos variáveis passados como keyword\n",
    "f(8,9,e=5,k=9,h=32)"
   ]
  },
  {
   "cell_type": "code",
   "execution_count": 3,
   "metadata": {},
   "outputs": [
    {
     "name": "stdout",
     "output_type": "stream",
     "text": [
      "a = 5\n",
      "b = 1\n",
      "x = {'e': 7, 'k': 10, 'h': 35}\n"
     ]
    }
   ],
   "source": [
    "# Uso evidenciado: Passar argumentos como keywords usando dicionário 'd'\n",
    "# onde algumas das chaves passados são nomes dos argumentos fixos declarados na função (a e b)\n",
    "d = {'a':5,'e': 7, 'k': 10,'b':1, 'h': 35}\n",
    "f(**d)\n",
    "# tem o efeito de retirar esses argumentos do dicionário que entra na função → x é igual a d retirando a e b"
   ]
  }
 ],
 "metadata": {
  "kernelspec": {
   "display_name": "Python 3",
   "language": "python",
   "name": "python3"
  },
  "language_info": {
   "codemirror_mode": {
    "name": "ipython",
    "version": 3
   },
   "file_extension": ".py",
   "mimetype": "text/x-python",
   "name": "python",
   "nbconvert_exporter": "python",
   "pygments_lexer": "ipython3",
   "version": "3.7.7"
  }
 },
 "nbformat": 4,
 "nbformat_minor": 4
}
