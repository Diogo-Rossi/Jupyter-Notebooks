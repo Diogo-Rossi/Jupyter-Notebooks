{
 "cells": [
  {
   "cell_type": "code",
   "execution_count": 36,
   "metadata": {},
   "outputs": [],
   "source": [
    "class A:\n",
    "    def __init__(self,a,b):\n",
    "        self.a = a\n",
    "        self.b = b\n",
    "        print(\"Rodou __init__ da classe A\")\n",
    "    \n",
    "    def Am1(self):\n",
    "        print(\"A,m1\")\n",
    "        print(\"a = \",self.a)\n",
    "        print(\"b = \",self.b)\n",
    "    \n",
    "    def Am2(self):\n",
    "        print(\"A,m2\")\n",
    "        print(\"a = \",self.a)\n",
    "        print(\"b = \",self.b)"
   ]
  },
  {
   "cell_type": "code",
   "execution_count": 37,
   "metadata": {},
   "outputs": [],
   "source": [
    "class B:\n",
    "    def __init__(self,c,d):\n",
    "        self.c = c\n",
    "        self.d = d\n",
    "        print(\"Rodou __init__ da classe B\")\n",
    "    \n",
    "    def Bm1(self):\n",
    "        print(\"B,m1\")\n",
    "        print(\"c = \",self.c)\n",
    "        print(\"d = \",self.d)\n",
    "    \n",
    "    def Bm2(self):\n",
    "        print(\"B,m2\")\n",
    "        print(\"c = \",self.c)\n",
    "        print(\"d = \",self.d)"
   ]
  },
  {
   "cell_type": "code",
   "execution_count": 44,
   "metadata": {},
   "outputs": [],
   "source": [
    "class C(A,B):\n",
    "    def __init__(self,a,b):\n",
    "        print(\"Rodou __init__ da classe C\")\n",
    "        super(C,self).__init__(a,b)    \n",
    "    def Cm1(self):\n",
    "        print(\"C,m1\")\n",
    "        print(\"a = \",self.a)\n",
    "        print(\"b = \",self.b)\n",
    "    \n",
    "    def Cm2(self,a,b):\n",
    "        print(\"C,m2\")\n",
    "        print(\"c = \",self.c)\n",
    "        print(\"d = \",self.d)"
   ]
  },
  {
   "cell_type": "code",
   "execution_count": 45,
   "metadata": {},
   "outputs": [
    {
     "name": "stdout",
     "output_type": "stream",
     "text": [
      "Rodou __init__ da classe C\n",
      "Rodou __init__ da classe A\n"
     ]
    }
   ],
   "source": [
    "objC = C(1,2)"
   ]
  },
  {
   "cell_type": "code",
   "execution_count": 15,
   "metadata": {},
   "outputs": [
    {
     "data": {
      "text/plain": [
       "1"
      ]
     },
     "execution_count": 15,
     "metadata": {},
     "output_type": "execute_result"
    }
   ],
   "source": [
    "objC."
   ]
  },
  {
   "cell_type": "code",
   "execution_count": 84,
   "metadata": {},
   "outputs": [],
   "source": [
    "class AA:\n",
    "    def __init__(self):\n",
    "        print(\"Rodou __init__ da classe AA\")\n",
    "    def m1(self):\n",
    "        print(\"Rodou m1 da classe AA\")\n",
    "        \n",
    "class BB(AA):\n",
    "    def __init__(self):\n",
    "        print(\"Rodou __init__ da classe BB\")\n",
    "    def m1(self):\n",
    "        print(\"Rodou m1 da classe BB\")\n",
    "\n",
    "class EE:\n",
    "    def __init__(self):\n",
    "        print(\"Rodou __init__ da classe EE\")\n",
    "    def m1(self):\n",
    "        print(\"Rodou m1 da classe EE\")\n",
    "        \n",
    "class FF(EE):\n",
    "    def __init__(self):\n",
    "        print(\"Rodou __init__ da classe FF\")\n",
    "    def m1(self):\n",
    "        print(\"Rodou m1 da classe FF\")\n",
    "        \n",
    "class CC(FF,BB):\n",
    "    def __init__(self):\n",
    "        print(\"Rodou __init__ da classe CC\")\n",
    "        super(CC,self).__init__()"
   ]
  },
  {
   "cell_type": "code",
   "execution_count": 85,
   "metadata": {},
   "outputs": [
    {
     "name": "stdout",
     "output_type": "stream",
     "text": [
      "Rodou __init__ da classe CC\n",
      "Rodou __init__ da classe FF\n"
     ]
    }
   ],
   "source": [
    "cc = CC()"
   ]
  },
  {
   "cell_type": "code",
   "execution_count": null,
   "metadata": {},
   "outputs": [],
   "source": []
  }
 ],
 "metadata": {
  "kernelspec": {
   "display_name": "Python 3",
   "language": "python",
   "name": "python3"
  },
  "language_info": {
   "codemirror_mode": {
    "name": "ipython",
    "version": 3
   },
   "file_extension": ".py",
   "mimetype": "text/x-python",
   "name": "python",
   "nbconvert_exporter": "python",
   "pygments_lexer": "ipython3",
   "version": "3.7.7"
  }
 },
 "nbformat": 4,
 "nbformat_minor": 4
}
