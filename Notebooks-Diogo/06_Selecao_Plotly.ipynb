{
 "cells": [
  {
   "cell_type": "code",
   "execution_count": 7,
   "metadata": {
    "hideCode": true,
    "hideOutput": true,
    "hidePrompt": true
   },
   "outputs": [],
   "source": [
    "import numpy as np\n",
    "import plotly.graph_objs as go\n",
    "from ipywidgets import interactive, VBox"
   ]
  },
  {
   "cell_type": "code",
   "execution_count": 8,
   "metadata": {
    "hideCode": false,
    "hideOutput": false,
    "hidePrompt": false
   },
   "outputs": [],
   "source": [
    "x = np.linspace(0,10,1000)\n",
    "y1 = np.sin(x)\n",
    "y2 = np.cos(x)"
   ]
  },
  {
   "cell_type": "code",
   "execution_count": 9,
   "metadata": {
    "hideCode": false,
    "hideOutput": false,
    "hidePrompt": false
   },
   "outputs": [],
   "source": [
    "layout = {\n",
    "    \"template\": \"simple_white\",\n",
    "    \"title\"   : {\n",
    "        \"text\": \"Registro da Bomba\",\n",
    "        \"x\"   : 0.5\n",
    "    },\n",
    "    \"xaxis\"   :{\n",
    "        \"title\" :\"Tempo\",\n",
    "        \"mirror\": True\n",
    "    },\n",
    "    \"yaxis\": {\n",
    "        \"title\": \"Pressão\",\n",
    "        \"mirror\": True\n",
    "    }\n",
    "}"
   ]
  },
  {
   "cell_type": "code",
   "execution_count": 10,
   "metadata": {
    "hideCode": false,
    "hideOutput": false,
    "hidePrompt": false
   },
   "outputs": [],
   "source": [
    "dados1 = go.Scatter(x=x,y=y1,mode='lines+markers',line_color=\"blue\",name=\"Dado Original\")\n",
    "dados2 = go.Scatter(x=x,y=y2,mode='lines+markers',line_color=\"red\",name=\"Dado Corrigido\")\n",
    "dados = [dados1,dados2]"
   ]
  },
  {
   "cell_type": "code",
   "execution_count": 24,
   "metadata": {
    "hideCode": false,
    "hideOutput": false,
    "hidePrompt": false
   },
   "outputs": [
    {
     "data": {
      "application/vnd.jupyter.widget-view+json": {
       "model_id": "12996f5633fb4db3a38bf21735d57286",
       "version_major": 2,
       "version_minor": 0
      },
      "text/plain": [
       "FigureWidget({\n",
       "    'data': [{'line': {'color': 'blue'},\n",
       "              'mode': 'lines+markers',\n",
       "              '…"
      ]
     },
     "metadata": {},
     "output_type": "display_data"
    }
   ],
   "source": [
    "def selection_fn(trace, points, selector):\n",
    "    tempy = trace.y.copy()\n",
    "    tempy[points.point_inds] = np.zeros(len(points.point_inds))\n",
    "    trace.y = np.array(tempy)\n",
    "\n",
    "fig = go.FigureWidget(dados,layout)\n",
    "fig.data[0].on_selection(selection_fn)\n",
    "# fig.show(config={'displayModeBar': True,'scrollZoom': True})\n",
    "fig"
   ]
  }
 ],
 "metadata": {
  "kernelspec": {
   "display_name": "Python 3",
   "language": "python",
   "name": "python3"
  },
  "language_info": {
   "codemirror_mode": {
    "name": "ipython",
    "version": 3
   },
   "file_extension": ".py",
   "mimetype": "text/x-python",
   "name": "python",
   "nbconvert_exporter": "python",
   "pygments_lexer": "ipython3",
   "version": "3.7.6"
  },
  "toc": {
   "base_numbering": 1,
   "nav_menu": {},
   "number_sections": true,
   "sideBar": true,
   "skip_h1_title": false,
   "title_cell": "Table of Contents",
   "title_sidebar": "Contents",
   "toc_cell": false,
   "toc_position": {},
   "toc_section_display": true,
   "toc_window_display": false
  }
 },
 "nbformat": 4,
 "nbformat_minor": 4
}
