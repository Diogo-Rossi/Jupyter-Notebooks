{
 "cells": [
  {
   "cell_type": "markdown",
   "metadata": {},
   "source": [
    "<img src=\"python.png\" >"
   ]
  },
  {
   "cell_type": "markdown",
   "metadata": {},
   "source": [
    "## Python Versions\n",
    "\n",
    "*Python 2.x is legacy, Python 3.x is the present and future of the language*\n",
    "\n",
    "Existem atualmente duas versões suportadas do Python, 2.x e 3.x. O Python 3.0 introduziu muitas mudanças incompatíveis com a versão 2.x, portanto, o código escrito para 2.x pode não funcionar para 3.x e vice-versa. \n",
    "\n",
    "Você pode verificar sua versão Python executando a linha de comando python --version."
   ]
  },
  {
   "cell_type": "code",
   "execution_count": null,
   "metadata": {
    "scrolled": false
   },
   "outputs": [],
   "source": [
    "!python --version"
   ]
  },
  {
   "cell_type": "markdown",
   "metadata": {},
   "source": [
    "## Help"
   ]
  },
  {
   "cell_type": "markdown",
   "metadata": {},
   "source": [
    "Precione as teclas \"Ctrl + Enter\" para executar a célula selecionada. Precione a letra \"b\" para inserir uma célula de comandos abaixo da atual e precione a letra \"a\" para inserir acima. Precioane \"dd\" para remover a célula selecionada.    "
   ]
  },
  {
   "cell_type": "code",
   "execution_count": null,
   "metadata": {
    "scrolled": true
   },
   "outputs": [],
   "source": [
    "help(print)"
   ]
  },
  {
   "cell_type": "code",
   "execution_count": null,
   "metadata": {
    "collapsed": true
   },
   "outputs": [],
   "source": [
    "print?"
   ]
  },
  {
   "cell_type": "code",
   "execution_count": null,
   "metadata": {
    "scrolled": true
   },
   "outputs": [],
   "source": [
    "print(\"Hello World\")"
   ]
  },
  {
   "cell_type": "code",
   "execution_count": null,
   "metadata": {
    "scrolled": true
   },
   "outputs": [],
   "source": [
    "print(\"Hello World\", 3 , 2+2, sep=\", \")"
   ]
  },
  {
   "cell_type": "markdown",
   "metadata": {},
   "source": [
    "# 2.Tipos de dados básicos"
   ]
  },
  {
   "cell_type": "markdown",
   "metadata": {},
   "source": [
    "## Números"
   ]
  },
  {
   "cell_type": "code",
   "execution_count": null,
   "metadata": {
    "scrolled": false
   },
   "outputs": [],
   "source": [
    "x = 5\n",
    "print( x , type(x) )\n",
    "x"
   ]
  },
  {
   "cell_type": "code",
   "execution_count": null,
   "metadata": {},
   "outputs": [],
   "source": [
    "print( x+1 )  # Addition\n",
    "print( x-1 )  # Subtraction\n",
    "print( x*2 )  # Multiplication\n",
    "print( x/2 )  # Division\n",
    "print( x//2 ) # Floor division\n",
    "print( x%2 )  # Modulo\n",
    "print( x**2, x**(.5)) # Exponent"
   ]
  },
  {
   "cell_type": "code",
   "execution_count": null,
   "metadata": {},
   "outputs": [],
   "source": [
    "x += 1\n",
    "print(x)\n",
    "\n",
    "x *= 2\n",
    "print(x)"
   ]
  },
  {
   "cell_type": "code",
   "execution_count": null,
   "metadata": {
    "scrolled": true
   },
   "outputs": [],
   "source": [
    "y = 5.0\n",
    "print( type(y) )\n",
    "print( y+1, y-1, y*2, y/2, y//2, y%2, y**2, y**(.5)) "
   ]
  },
  {
   "cell_type": "code",
   "execution_count": null,
   "metadata": {},
   "outputs": [],
   "source": [
    "print( int(2.5) )\n",
    "print( float(2) )"
   ]
  },
  {
   "cell_type": "code",
   "execution_count": null,
   "metadata": {},
   "outputs": [],
   "source": [
    "print( abs(-5.5) )\n",
    "print( abs(5.5) )"
   ]
  },
  {
   "cell_type": "markdown",
   "metadata": {},
   "source": [
    "## Booleans\n",
    "\n",
    "Python realiza a interpretação de verdadeiro e falso para varias expressões:\n",
    "\n",
    "```python\n",
    "#Falso:\n",
    "False ==  0 == \"\" == {} == [] == None\n",
    "\n",
    "#Verdadeiro:\n",
    "True == 1 == \"Text\" == {'a':'b'} == ['c' , 'd']\n",
    "```"
   ]
  },
  {
   "cell_type": "code",
   "execution_count": null,
   "metadata": {},
   "outputs": [],
   "source": [
    "t, f = True, False\n",
    "print( type(t) )"
   ]
  },
  {
   "cell_type": "code",
   "execution_count": null,
   "metadata": {},
   "outputs": [],
   "source": [
    "print( t and f )\n",
    "print( t or f )\n",
    "print( not t )\n",
    "print( t != f )\n",
    "print(t == f)"
   ]
  },
  {
   "cell_type": "markdown",
   "metadata": {},
   "source": [
    "## Exercício (the babylonian algorithm)"
   ]
  },
  {
   "cell_type": "markdown",
   "metadata": {},
   "source": [
    "<h3><center>$x_1 \\approx \\sqrt a $</center></h3>\n",
    "<h3><center>$x_1 x_1 \\approx a \\space\\space\\text{or}\\space\\space x_1 \\approx \\dfrac{a}{x_1}$</center></h3>\n",
    "<h3><center>$x_2 = \\dfrac{1}{2}(x_1 + \\dfrac{a}{x_1})$</center></h3>\n",
    "<h3><center>$x_3 = \\dfrac{1}{2}(x_2 + \\dfrac{a}{x_2})$</center></h3>\n",
    "<h3><center>$\\vdots$</center></h3>"
   ]
  },
  {
   "cell_type": "markdown",
   "metadata": {},
   "source": [
    "Calcular a raiz de 2 usando a aproximação acima até um erro menor que 1e-6 (começar com $x_1 = 1$)\n",
    "\n",
    "erro = abs($x_n-x_{n-1}$)"
   ]
  },
  {
   "cell_type": "code",
   "execution_count": 4,
   "metadata": {},
   "outputs": [
    {
     "name": "stdout",
     "output_type": "stream",
     "text": [
      "1 5.0 3.4 3.023529411764706 3.00009155413138 3.000000001396984\n"
     ]
    }
   ],
   "source": [
    "x1 = 1\n",
    "# completar com o seu código\n",
    "a=9\n",
    "x2=1/2*(x1+a/x1)\n",
    "x3=1/2*(x2+a/x2)\n",
    "x4=1/2*(x3+a/x3)\n",
    "x5=1/2*(x4+a/x4)\n",
    "x6=1/2*(x5+a/x5)\n",
    "\n",
    "print(x1,x2,x3,x4,x5,x6)\n"
   ]
  },
  {
   "cell_type": "markdown",
   "metadata": {},
   "source": [
    "## Strings"
   ]
  },
  {
   "cell_type": "code",
   "execution_count": 6,
   "metadata": {},
   "outputs": [
    {
     "name": "stdout",
     "output_type": "stream",
     "text": [
      "hello 5\n"
     ]
    }
   ],
   "source": [
    "h = 'hello'\n",
    "w = \"world\"\n",
    "print(h, len(h))\n",
    "\n"
   ]
  },
  {
   "cell_type": "code",
   "execution_count": 7,
   "metadata": {},
   "outputs": [
    {
     "name": "stdout",
     "output_type": "stream",
     "text": [
      "hello world\n"
     ]
    }
   ],
   "source": [
    "hw = h + \" \" + w\n",
    "print(hw)"
   ]
  },
  {
   "cell_type": "code",
   "execution_count": 8,
   "metadata": {},
   "outputs": [
    {
     "name": "stdout",
     "output_type": "stream",
     "text": [
      "hello world 7\n"
     ]
    }
   ],
   "source": [
    "hw7 = \"%s %s %d\"%(h, w, 7)\n",
    "print(hw7)\n",
    "\n",
    "hw8=f()\n",
    "\n",
    "\n"
   ]
  },
  {
   "cell_type": "code",
   "execution_count": null,
   "metadata": {},
   "outputs": [],
   "source": [
    "n = str(7)\n",
    "print(n, type(n))"
   ]
  },
  {
   "cell_type": "code",
   "execution_count": 347,
   "metadata": {},
   "outputs": [
    {
     "name": "stdout",
     "output_type": "stream",
     "text": [
      "\n",
      "s=\"heLLo\"\n",
      "\n",
      "Hello\n",
      "HELLO\n",
      "hello\n",
      "he(ll)o\n",
      "\n",
      "s=\" hello world \"\n",
      "\n",
      "hello world\n",
      "HELLO WORLD\n",
      "['hello', 'world']\n",
      "helloworld\n",
      "helloworld\n"
     ]
    }
   ],
   "source": [
    "s = 'heLLo'\n",
    "print('\\ns=\\\"' + s + '\\\"\\n')\n",
    "print(s.title())                # Capitaliza a string \n",
    "print(s.upper())                # Converte para maiúsculas\n",
    "print(s.lower())                # Converte para minúsculas\n",
    "print(s.replace('LL', '(ll)'))  # Substitui todas as instâncias de uma substring\n",
    "\n",
    "s = ' hello world '\n",
    "print('\\ns=\\\"' + s + '\\\"\\n')\n",
    "print(s.strip())                # Apaga os espaços em branco nos extremos\n",
    "print(s.strip().upper())        # Apaga os espaços em branco nos extremos e Converte para maiúsculas\n",
    "print(s.split())                # Divide a string em substrings\n",
    "print(s.replace(' ',''))        # Apaga todos os espaços em branco\n",
    "print(''.join(s.split()))       # Apaga todos os espaços em branco  "
   ]
  },
  {
   "cell_type": "markdown",
   "metadata": {},
   "source": [
    "## Lista\n",
    "\n",
    "Uma lista em Python é igual a um array, mas redimensionável e pode conter diferentes tipos de objetos:"
   ]
  },
  {
   "cell_type": "code",
   "execution_count": 52,
   "metadata": {},
   "outputs": [
    {
     "name": "stdout",
     "output_type": "stream",
     "text": [
      "[3, 1, 2]\n",
      "3 1 2\n",
      "3 1 2\n"
     ]
    }
   ],
   "source": [
    "l = [3, 1, 2]\n",
    "print(l)\n",
    "print(l[0], l[1], l[2])\n",
    "print(l[-3], l[-2], l[-1])"
   ]
  },
  {
   "cell_type": "code",
   "execution_count": 53,
   "metadata": {},
   "outputs": [
    {
     "name": "stdout",
     "output_type": "stream",
     "text": [
      "[3, 1, 'hello']\n"
     ]
    }
   ],
   "source": [
    "l[2] = 'hello'\n",
    "print(l)"
   ]
  },
  {
   "cell_type": "code",
   "execution_count": 54,
   "metadata": {
    "scrolled": true
   },
   "outputs": [
    {
     "name": "stdout",
     "output_type": "stream",
     "text": [
      "[3, 1, 'hello', 'world']\n"
     ]
    }
   ],
   "source": [
    "l.append('world')\n",
    "print(l)"
   ]
  },
  {
   "cell_type": "code",
   "execution_count": 55,
   "metadata": {},
   "outputs": [
    {
     "name": "stdout",
     "output_type": "stream",
     "text": [
      "[1, 2, 3, 4, 5, 6, 7]\n"
     ]
    }
   ],
   "source": [
    "l=[1,2,3,4,5,6,7,8]\n",
    "l.pop()\n",
    "print(l)"
   ]
  },
  {
   "cell_type": "code",
   "execution_count": 65,
   "metadata": {},
   "outputs": [
    {
     "name": "stdout",
     "output_type": "stream",
     "text": [
      "[['hello', 'world'], [2, -5, 9]]\n",
      "['hello', 'world']\n",
      "world\n",
      "[2, -5, 9]\n",
      "9\n"
     ]
    }
   ],
   "source": [
    "ar=[]\t\t\t\t# variável ar vazia\n",
    "ar.append(['hello','world'])\t# concatena uma array à variável ar\n",
    "ar.append([2,-5,9])\t\t# concatena outra array à variável ar. Agora ar é uma array de arrays\n",
    "print(ar)\t\t\t# printa ar\n",
    "print(ar[0])\t\t\t# printa a primeira array (índice 0) de ar\n",
    "print(ar[0][1])\t\t\t# dentro da primeira array de ar (índice 0), print o segundo elemento (índice 1)\n",
    "print(ar[1])\t\t\t# printa a primeira array (índice 0) de ar\n",
    "print(ar[1][2])\t\t\t# dentro da primeira array de ar (índice 0), print o segundo elemento (índice 1)"
   ]
  },
  {
   "cell_type": "code",
   "execution_count": null,
   "metadata": {},
   "outputs": [],
   "source": []
  },
  {
   "cell_type": "code",
   "execution_count": 63,
   "metadata": {},
   "outputs": [
    {
     "name": "stdout",
     "output_type": "stream",
     "text": [
      "[0, 1]\n",
      "[0, 1, 0, 1, 0, 1]\n"
     ]
    }
   ],
   "source": [
    "l=list(range(2))\n",
    "print(l)\n",
    "lp = l*3\n",
    "print(lp)"
   ]
  },
  {
   "cell_type": "markdown",
   "metadata": {},
   "source": [
    "## Slicing and Copy\n",
    "\n",
    "Quando se quer acessar apenas parte de uma lista"
   ]
  },
  {
   "cell_type": "code",
   "execution_count": 50,
   "metadata": {
    "scrolled": false
   },
   "outputs": [
    {
     "name": "stdout",
     "output_type": "stream",
     "text": [
      "[0, 1, 2, 3, 4]\n"
     ]
    }
   ],
   "source": [
    "nums = list(range(5))\n",
    "print(nums)"
   ]
  },
  {
   "cell_type": "code",
   "execution_count": 73,
   "metadata": {
    "scrolled": true
   },
   "outputs": [
    {
     "name": "stdout",
     "output_type": "stream",
     "text": [
      "[2, 3]\n",
      "[2, 3, 4]\n",
      "[0, 1]\n",
      "[0, 1, 2, 3, 4]\n",
      "[0, 1, 2, 3]\n",
      "[0, 1, 98, 99, 4]\n",
      "[0, 1, 4]\n"
     ]
    }
   ],
   "source": [
    "print(nums[2:4])\n",
    "print(nums[2:])\n",
    "print(nums[:2])\n",
    "print(nums[:])\n",
    "print(nums[:-1])\n",
    "nums[2:4] = [98, 99]\n",
    "print(nums)\n",
    "del nums[2:4]\n",
    "print(nums)"
   ]
  },
  {
   "cell_type": "markdown",
   "metadata": {},
   "source": [
    "Como copiar uma lista"
   ]
  },
  {
   "cell_type": "code",
   "execution_count": 66,
   "metadata": {
    "scrolled": true
   },
   "outputs": [
    {
     "name": "stdout",
     "output_type": "stream",
     "text": [
      "[0, 1, 2, 3, 4]\n",
      "[0, 1, 2, 3, 100]\n",
      "[0, 1, 2, 3, 100]\n"
     ]
    }
   ],
   "source": [
    "nums = list(range(5))\n",
    "print(nums)\n",
    "nums2 = nums # ************* CUIDADO!!! ****************\n",
    "nums2[-1] = 100\n",
    "print(nums)\n",
    "print(nums2)"
   ]
  },
  {
   "cell_type": "code",
   "execution_count": 67,
   "metadata": {
    "scrolled": false
   },
   "outputs": [
    {
     "name": "stdout",
     "output_type": "stream",
     "text": [
      "[0, 1, 2, 3, 4]\n",
      "[0, 1, 2, 3, 4]\n",
      "[0, 1, 2, 3, 100]\n"
     ]
    }
   ],
   "source": [
    "nums = list(range(5))\n",
    "print(nums)\n",
    "nums2 = nums[:]\n",
    "nums2[-1] = 100\n",
    "print(nums)\n",
    "print(nums2)"
   ]
  },
  {
   "cell_type": "code",
   "execution_count": 68,
   "metadata": {},
   "outputs": [
    {
     "name": "stdout",
     "output_type": "stream",
     "text": [
      "[0, 1, 2, 3, 4]\n",
      "[0, 1, 2, 3, 4]\n",
      "[0, 1, 2, 3, 100]\n"
     ]
    }
   ],
   "source": [
    "nums = list(range(5))\n",
    "print(nums)\n",
    "nums2 = nums.copy()\n",
    "nums2[-1] = 100\n",
    "print(nums)\n",
    "print(nums2)"
   ]
  },
  {
   "cell_type": "markdown",
   "metadata": {},
   "source": [
    "## Exercício (String e Lista)"
   ]
  },
  {
   "cell_type": "markdown",
   "metadata": {},
   "source": [
    "Gerar uma lista com apenas os valores de porosidade na ordem inversa a mostrada no texto "
   ]
  },
  {
   "cell_type": "code",
   "execution_count": 121,
   "metadata": {},
   "outputs": [
    {
     "name": "stdout",
     "output_type": "stream",
     "text": [
      "[0.19, 0.22, 0.2, 0.18, 0.09, 0.06, 0.1, 0.18, 0.15, 0.23]\n"
     ]
    }
   ],
   "source": [
    "texto = \" 0.23 0.15 0.18 0.10 0.06 0.09 0.18 0.20 0.22 0.19 ** dez valores de porosidade\"\n",
    "lista1=texto.split('**')\n",
    "lista2=lista1[0].split()\n",
    "lista3=lista2[::-1]\n",
    "lista4=list(map(float,lista3))\n",
    "print(lista4)\n"
   ]
  },
  {
   "cell_type": "code",
   "execution_count": null,
   "metadata": {},
   "outputs": [],
   "source": []
  },
  {
   "cell_type": "code",
   "execution_count": null,
   "metadata": {},
   "outputs": [],
   "source": []
  },
  {
   "cell_type": "markdown",
   "metadata": {},
   "source": [
    "## Loops\n",
    "\n",
    "Você pode iterar sob os elementos de uma lista:"
   ]
  },
  {
   "cell_type": "code",
   "execution_count": 122,
   "metadata": {},
   "outputs": [
    {
     "name": "stdout",
     "output_type": "stream",
     "text": [
      "cat\n",
      "dog\n",
      "monkey\n"
     ]
    }
   ],
   "source": [
    "animals = ['cat', 'dog', 'monkey']\n",
    "for animal in animals:  \n",
    "    print(animal)"
   ]
  },
  {
   "cell_type": "markdown",
   "metadata": {},
   "source": [
    "Se você deseja acessar o índice de cada elemento dentro do corpo de um loop, use a função *enumerate*:"
   ]
  },
  {
   "cell_type": "code",
   "execution_count": 123,
   "metadata": {},
   "outputs": [
    {
     "name": "stdout",
     "output_type": "stream",
     "text": [
      "0 cat\n",
      "1 dog\n",
      "2 monkey\n"
     ]
    }
   ],
   "source": [
    "animals = ['cat', 'dog', 'monkey']\n",
    "for i, animal in enumerate(animals):\n",
    "    print(i, animal)"
   ]
  },
  {
   "cell_type": "markdown",
   "metadata": {},
   "source": [
    "Quero apenas fazer um loop de 1 até 10"
   ]
  },
  {
   "cell_type": "code",
   "execution_count": 124,
   "metadata": {},
   "outputs": [
    {
     "name": "stdout",
     "output_type": "stream",
     "text": [
      "1\n",
      "2\n",
      "3\n",
      "4\n",
      "5\n",
      "6\n",
      "7\n",
      "8\n",
      "9\n",
      "10\n"
     ]
    }
   ],
   "source": [
    "for i in range(10):\n",
    "    print(i+1)"
   ]
  },
  {
   "cell_type": "markdown",
   "metadata": {},
   "source": [
    "Como tranformar uma lista com strings em uma lista com floats"
   ]
  },
  {
   "cell_type": "code",
   "execution_count": 125,
   "metadata": {},
   "outputs": [
    {
     "name": "stdout",
     "output_type": "stream",
     "text": [
      "['1.0', '2.5', '3.0']\n"
     ]
    }
   ],
   "source": [
    "nstring = ['1.0','2.5','3.0']\n",
    "print(nstring)"
   ]
  },
  {
   "cell_type": "code",
   "execution_count": 131,
   "metadata": {},
   "outputs": [
    {
     "name": "stdout",
     "output_type": "stream",
     "text": [
      "[1.0, 2.5, 3.0]\n"
     ]
    }
   ],
   "source": [
    "nfloat = []\n",
    "for n in nstring:\n",
    "    nfloat.append(float(n))\n",
    "print(nfloat)"
   ]
  },
  {
   "cell_type": "code",
   "execution_count": 173,
   "metadata": {},
   "outputs": [
    {
     "name": "stdout",
     "output_type": "stream",
     "text": [
      "[1.0, 2.5, 3.0]\n"
     ]
    }
   ],
   "source": [
    "nfloat = list(map(float,nstring)) # Aplica a função float() a todos os elementos de nstring\n",
    "print(nfloat)"
   ]
  },
  {
   "cell_type": "markdown",
   "metadata": {},
   "source": [
    "## List comprehensions\n"
   ]
  },
  {
   "cell_type": "code",
   "execution_count": 136,
   "metadata": {},
   "outputs": [
    {
     "name": "stdout",
     "output_type": "stream",
     "text": [
      "[0, 1, 4, 9, 16]\n"
     ]
    }
   ],
   "source": [
    "nums = [0, 1, 2, 3, 4]\n",
    "squares = []\n",
    "for x in nums:\n",
    "    squares.append(x**2)\n",
    "print(squares)"
   ]
  },
  {
   "cell_type": "code",
   "execution_count": 140,
   "metadata": {},
   "outputs": [
    {
     "name": "stdout",
     "output_type": "stream",
     "text": [
      "[0, 1, 4, 9, 16]\n"
     ]
    }
   ],
   "source": [
    "nums = [0, 1, 2, 3, 4]\n",
    "squares = list(range(len(nums)))\n",
    "for i, x in enumerate(nums):\n",
    "    squares[i] = x**2\n",
    "print(squares)"
   ]
  },
  {
   "cell_type": "code",
   "execution_count": 157,
   "metadata": {},
   "outputs": [
    {
     "name": "stdout",
     "output_type": "stream",
     "text": [
      "[0, 1, 4, 9, 16]\n"
     ]
    }
   ],
   "source": [
    "nums = [0, 1, 2, 3, 4]\n",
    "squares = list(range(len(nums)))\n",
    "i=0\n",
    "for x in nums:\n",
    "    squares[i] = x**2\n",
    "    i=i+1\n",
    "print(squares)"
   ]
  },
  {
   "cell_type": "markdown",
   "metadata": {},
   "source": [
    "Você pode simplificar o código utilizando **list comprehensions**:"
   ]
  },
  {
   "cell_type": "code",
   "execution_count": 174,
   "metadata": {},
   "outputs": [
    {
     "name": "stdout",
     "output_type": "stream",
     "text": [
      "[0, 1, 4, 9, 16]\n"
     ]
    }
   ],
   "source": [
    "nums = [0, 1, 2, 3, 4]\n",
    "squares = [x**2 for x in nums]\n",
    "print(squares)"
   ]
  },
  {
   "cell_type": "markdown",
   "metadata": {},
   "source": [
    "**list comprehensions** também pode conter condições:"
   ]
  },
  {
   "cell_type": "code",
   "execution_count": 175,
   "metadata": {
    "scrolled": true
   },
   "outputs": [
    {
     "name": "stdout",
     "output_type": "stream",
     "text": [
      "[0, 4, 16]\n"
     ]
    }
   ],
   "source": [
    "nums = [0, 1, 2, 3, 4]\n",
    "even_squares = [x**2 for x in nums if x%2 == 0]\n",
    "print(even_squares)"
   ]
  },
  {
   "cell_type": "markdown",
   "metadata": {},
   "source": [
    "## Exercício (Loops e List Comprehensions)"
   ]
  },
  {
   "cell_type": "markdown",
   "metadata": {},
   "source": [
    "Gerar uma lista com os valores de permeabilidade k do arquivo abaixo que sejam maiores ou iguais a 100 mD"
   ]
  },
  {
   "cell_type": "code",
   "execution_count": 158,
   "metadata": {},
   "outputs": [],
   "source": [
    "# Valores de permeablidade em logaritmo base 10 -> log10(k)\n",
    "texto = \" 2.000  1.176  2.130  1.903  1.301 0.845  2.413  1.561  2.992  2.733 3.024\" "
   ]
  },
  {
   "cell_type": "code",
   "execution_count": 178,
   "metadata": {},
   "outputs": [
    {
     "name": "stdout",
     "output_type": "stream",
     "text": [
      "lista_string =  ['2.000', '1.176', '2.130', '1.903', '1.301', '0.845', '2.413', '1.561', '2.992', '2.733', '3.024']\n",
      "lista_float =  [2.0, 1.176, 2.13, 1.903, 1.301, 0.845, 2.413, 1.561, 2.992, 2.733, 3.024]\n",
      "permeab =  [2.0, 2.13, 2.413, 2.992, 2.733, 3.024]\n"
     ]
    }
   ],
   "source": [
    "texto = \" 2.000  1.176  2.130  1.903  1.301 0.845  2.413  1.561  2.992  2.733 3.024\" \n",
    "lista_string = texto.split()\n",
    "lista_float = list(map(float,lista_string))\n",
    "permeab = [x for x in lista_float if x>=2]\n",
    "\n",
    "print('lista_string = ', lista_string)\n",
    "print('lista_float = ', lista_float)\n",
    "print('permeab = ', permeab)"
   ]
  },
  {
   "cell_type": "markdown",
   "metadata": {},
   "source": [
    "## Tuple\n",
    "\n",
    "Tuplas podem ser vistas como listas em Python, com a grande diferença de serem imutáveis"
   ]
  },
  {
   "cell_type": "code",
   "execution_count": 176,
   "metadata": {},
   "outputs": [
    {
     "name": "stdout",
     "output_type": "stream",
     "text": [
      "5 6 <class 'tuple'>\n"
     ]
    }
   ],
   "source": [
    "t = (5, 6)       \n",
    "print(t[0],t[1],type(t))"
   ]
  },
  {
   "cell_type": "code",
   "execution_count": 181,
   "metadata": {
    "scrolled": false
   },
   "outputs": [
    {
     "ename": "TypeError",
     "evalue": "'tuple' object does not support item assignment",
     "output_type": "error",
     "traceback": [
      "\u001b[1;31m---------------------------------------------------------------------------\u001b[0m",
      "\u001b[1;31mTypeError\u001b[0m                                 Traceback (most recent call last)",
      "\u001b[1;32m<ipython-input-181-6dd06f73cec4>\u001b[0m in \u001b[0;36m<module>\u001b[1;34m()\u001b[0m\n\u001b[1;32m----> 1\u001b[1;33m \u001b[0mt\u001b[0m\u001b[1;33m[\u001b[0m\u001b[1;36m0\u001b[0m\u001b[1;33m]\u001b[0m \u001b[1;33m=\u001b[0m \u001b[1;36m5\u001b[0m\u001b[1;33m\u001b[0m\u001b[0m\n\u001b[0m",
      "\u001b[1;31mTypeError\u001b[0m: 'tuple' object does not support item assignment"
     ]
    }
   ],
   "source": [
    "t[0] = 5"
   ]
  },
  {
   "cell_type": "markdown",
   "metadata": {},
   "source": [
    "## Dicionário:\n",
    "\n",
    "Um dicionário armazena pares (chave, valor)"
   ]
  },
  {
   "cell_type": "code",
   "execution_count": 203,
   "metadata": {},
   "outputs": [
    {
     "name": "stdout",
     "output_type": "stream",
     "text": [
      "cute\n",
      "True\n"
     ]
    }
   ],
   "source": [
    "d = {'cat':'cute' , 'dog':'furry'}\n",
    "print(d['cat'])\n",
    "print('cat' in d)"
   ]
  },
  {
   "cell_type": "code",
   "execution_count": 204,
   "metadata": {},
   "outputs": [
    {
     "name": "stdout",
     "output_type": "stream",
     "text": [
      "cat cute\n",
      "dog furry\n"
     ]
    }
   ],
   "source": [
    "for x in d:\n",
    "    print(x,d[x])"
   ]
  },
  {
   "cell_type": "code",
   "execution_count": 185,
   "metadata": {},
   "outputs": [
    {
     "name": "stdout",
     "output_type": "stream",
     "text": [
      "{'cat': 'cute', 'dog': 'furry', 'fish': 'wet'}\n"
     ]
    }
   ],
   "source": [
    "d['fish'] = 'wet'    # Acrescenta um novo elemento\n",
    "print(d)     "
   ]
  },
  {
   "cell_type": "code",
   "execution_count": null,
   "metadata": {},
   "outputs": [],
   "source": [
    "print(d['monkey'])  # KeyError: 'monkey' not a key of d"
   ]
  },
  {
   "cell_type": "code",
   "execution_count": null,
   "metadata": {},
   "outputs": [],
   "source": [
    "print(d.get('monkey', 'N/A'))  # Get an element with a default; prints \"N/A\"\n",
    "print(d.get('fish', 'N/A'))   # Get an element with a default; prints \"wet\""
   ]
  },
  {
   "cell_type": "code",
   "execution_count": null,
   "metadata": {},
   "outputs": [],
   "source": [
    "del d['fish']        # Remove an element from a dictionary\n",
    "print(d.get('fish', 'N/A')) # \"fish\" is no longer a key; prints \"N/A\""
   ]
  },
  {
   "cell_type": "markdown",
   "metadata": {},
   "source": [
    "**Dictionary comprehensions**. Similar a List comprehensions, que permite criar facilmente novos dicionários"
   ]
  },
  {
   "cell_type": "code",
   "execution_count": null,
   "metadata": {},
   "outputs": [],
   "source": [
    "nums = [0, 1, 2, 3, 4]\n",
    "even_num_to_square = {x: x ** 2 for x in nums if x % 2 == 0}\n",
    "print(even_num_to_square)"
   ]
  },
  {
   "cell_type": "markdown",
   "metadata": {},
   "source": [
    "## Sets\n",
    "\n",
    "Um conjunto é uma coleção não ordenada de distintos elementos."
   ]
  },
  {
   "cell_type": "code",
   "execution_count": 221,
   "metadata": {},
   "outputs": [
    {
     "name": "stdout",
     "output_type": "stream",
     "text": [
      "True\n",
      "False\n",
      "{'cat', 'dog'}\n"
     ]
    }
   ],
   "source": [
    "animals = {'cat', 'dog'}\n",
    "print('cat' in animals)\n",
    "print('fish' in animals)\n",
    "print(animals)"
   ]
  },
  {
   "cell_type": "code",
   "execution_count": 222,
   "metadata": {},
   "outputs": [
    {
     "name": "stdout",
     "output_type": "stream",
     "text": [
      "True\n",
      "3\n",
      "{'cat', 'dog', 'fish'}\n"
     ]
    }
   ],
   "source": [
    "animals.add('fish')\n",
    "print('fish' in animals)\n",
    "print(len(animals))\n",
    "print(animals)"
   ]
  },
  {
   "cell_type": "code",
   "execution_count": 207,
   "metadata": {},
   "outputs": [
    {
     "name": "stdout",
     "output_type": "stream",
     "text": [
      "3\n",
      "2\n"
     ]
    }
   ],
   "source": [
    "animals.add('cat')\n",
    "print(len(animals))\n",
    "animals.remove('cat')\n",
    "print(len(animals))"
   ]
  },
  {
   "cell_type": "markdown",
   "metadata": {},
   "source": [
    "** Sets Comprehensions **"
   ]
  },
  {
   "cell_type": "code",
   "execution_count": null,
   "metadata": {},
   "outputs": [],
   "source": [
    "from math import sqrt\n",
    "print({int(sqrt(x)) for x in range(30)})"
   ]
  },
  {
   "cell_type": "markdown",
   "metadata": {},
   "source": [
    "# 3.Functions\n",
    "\n",
    "Funções de Python são definidas usando o comando **def**.\n",
    "\n",
    "Uma das características mais importantes de Python é o recuo!!!"
   ]
  },
  {
   "cell_type": "code",
   "execution_count": 227,
   "metadata": {
    "scrolled": false
   },
   "outputs": [],
   "source": [
    "def funct(x):\n",
    "    \n",
    "    # Condição if/elif/else\n",
    "    if x > 0:\n",
    "        return 'positive'\n",
    "    elif x < 0:\n",
    "        return 'negative'\n",
    "    else:\n",
    "        return 'zero'"
   ]
  },
  {
   "cell_type": "code",
   "execution_count": 228,
   "metadata": {},
   "outputs": [
    {
     "name": "stdout",
     "output_type": "stream",
     "text": [
      "negative\n",
      "zero\n",
      "positive\n"
     ]
    }
   ],
   "source": [
    "for x in [-1, 0, 1]:\n",
    "    print(funct(x))"
   ]
  },
  {
   "cell_type": "code",
   "execution_count": 275,
   "metadata": {},
   "outputs": [],
   "source": [
    "def squares(s):\n",
    "    lista_square = []\n",
    "    x, square = 1, 1\n",
    "    \n",
    "    # Condição while\n",
    "    while square <= s:\n",
    "        lista_square.append(square)\n",
    "        x += 1\n",
    "        square = x**2\n",
    "        \n",
    "    return lista_square    "
   ]
  },
  {
   "cell_type": "code",
   "execution_count": 276,
   "metadata": {
    "scrolled": true
   },
   "outputs": [
    {
     "name": "stdout",
     "output_type": "stream",
     "text": [
      "[1, 4, 9, 16, 25, 36, 49, 64, 81, 100]\n"
     ]
    }
   ],
   "source": [
    "print(squares(100))"
   ]
  },
  {
   "cell_type": "markdown",
   "metadata": {},
   "source": [
    "Podemos usar argumentos opcionais"
   ]
  },
  {
   "cell_type": "code",
   "execution_count": null,
   "metadata": {},
   "outputs": [],
   "source": [
    "def hello(name=\"yuri\", var=False):\n",
    "    if var:\n",
    "        print('HELLO ' + name.upper())\n",
    "    else:\n",
    "        print('Hello ' + name)\n",
    "http://localhost:8888/notebooks/Desktop/Fundamentos_de_python/1.Introducao.ipynb#\n",
    "hello()\n",
    "hello('Bob')\n",
    "hello('Fred', var=True)"
   ]
  },
  {
   "cell_type": "markdown",
   "metadata": {},
   "source": [
    "## Exercício (Funções)"
   ]
  },
  {
   "cell_type": "markdown",
   "metadata": {},
   "source": [
    "Escrever uma função para calcular a raiz quadrada de um número x via babylonian algorithm (tolerância 1e-6)"
   ]
  },
  {
   "cell_type": "code",
   "execution_count": 279,
   "metadata": {},
   "outputs": [
    {
     "name": "stdout",
     "output_type": "stream",
     "text": [
      "10.0\n"
     ]
    }
   ],
   "source": [
    "def babylonian(a, tolerancia=1e-6):\n",
    "    x0 = a/2\n",
    "    erro = 1.\n",
    "    while erro >= tolerancia:\n",
    "        x1 = 0.5*(x0+a/x0)\n",
    "        erro = abs(x1 - x0)\n",
    "        x0=x1\n",
    "    return x1\n",
    "\n",
    "print(babylonian(100))"
   ]
  },
  {
   "cell_type": "markdown",
   "metadata": {},
   "source": [
    "Escrever uma função que dado um número n, ela retorna uma lista com todos os primos menores que n"
   ]
  },
  {
   "cell_type": "code",
   "execution_count": 288,
   "metadata": {},
   "outputs": [
    {
     "name": "stdout",
     "output_type": "stream",
     "text": [
      "[2, 3, 5, 7, 11, 13, 17, 19]\n"
     ]
    }
   ],
   "source": [
    "def primos(n):\n",
    "    lista_primos = []\n",
    "    for number in range(2,n):\n",
    "        parar=True\n",
    "        for i in range (2,number):\n",
    "            if number%i==0:\n",
    "                parar=False #não é primo\n",
    "                break\n",
    "        if parar:\n",
    "            lista_primos.append(number)\n",
    "    return lista_primos\n",
    "        \n",
    "print(primos(20))\n"
   ]
  },
  {
   "cell_type": "markdown",
   "metadata": {},
   "source": [
    "# 4.Arquivos"
   ]
  },
  {
   "cell_type": "markdown",
   "metadata": {},
   "source": [
    "## Escrevendo arquivos"
   ]
  },
  {
   "cell_type": "code",
   "execution_count": 304,
   "metadata": {},
   "outputs": [],
   "source": [
    "f = open('numeros10.txt','w')\n",
    "f.write(\"**Numbers:\\n\")\n",
    "for i in range(3):\n",
    "    f.write('%s ' % i)\n",
    "    f.write('%d ' % i)\n",
    "    f.write('%f\\n' % i)\n",
    "f.close() # Caso ocorra uma exceção durante a escrita, o arquivo não será fechado! "
   ]
  },
  {
   "cell_type": "code",
   "execution_count": 306,
   "metadata": {},
   "outputs": [],
   "source": [
    "with open('numeros10.txt','w') as f: # Abrindo um arquivo desta forma você garante que o mesmo será fechado! \n",
    "    f.write(\"**Numbers:\\n\\n\")\n",
    "    for i in range(3):\n",
    "        f.write('%f %f\\n' % (i*2, i*2+1) )"
   ]
  },
  {
   "cell_type": "markdown",
   "metadata": {},
   "source": [
    "## Lendo arquivos\n",
    "\n",
    "**Lendo arquivo \"numeros1.txt\":**"
   ]
  },
  {
   "cell_type": "code",
   "execution_count": 296,
   "metadata": {
    "scrolled": false
   },
   "outputs": [
    {
     "name": "stdout",
     "output_type": "stream",
     "text": [
      "**Numbers:\n",
      "0\n",
      "1\n",
      "2\n",
      "\n"
     ]
    },
    {
     "data": {
      "text/plain": [
       "'**Numbers:\\n0\\n1\\n2\\n'"
      ]
     },
     "execution_count": 296,
     "metadata": {},
     "output_type": "execute_result"
    }
   ],
   "source": [
    "with open('numeros1.txt','r') as f:\n",
    "    #Devolve todo o arquivo em uma única string\n",
    "    linhas = f.read()\n",
    "print(linhas)\n",
    "linhas"
   ]
  },
  {
   "cell_type": "code",
   "execution_count": 297,
   "metadata": {},
   "outputs": [
    {
     "name": "stdout",
     "output_type": "stream",
     "text": [
      "['**Numbers:\\n', '0\\n', '1\\n', '2\\n']\n"
     ]
    }
   ],
   "source": [
    "with open('numeros1.txt','r') as f:\n",
    "    #Devolve cada linha do arquivo como array\n",
    "    linhas = f.readlines()\n",
    "print(linhas)"
   ]
  },
  {
   "cell_type": "code",
   "execution_count": 310,
   "metadata": {},
   "outputs": [
    {
     "name": "stdout",
     "output_type": "stream",
     "text": [
      "['**Numbers:\\n', '0\\n', '1\\n', '2\\n']\n"
     ]
    }
   ],
   "source": [
    "lin=[]\n",
    "with open('numeros1.txt','r') as f:\n",
    "    for linha in f:\n",
    "        lin.append(linha)      \n",
    "print(lin)"
   ]
  },
  {
   "cell_type": "code",
   "execution_count": 311,
   "metadata": {},
   "outputs": [
    {
     "name": "stdout",
     "output_type": "stream",
     "text": [
      "['**Numbers:\\n']\n"
     ]
    }
   ],
   "source": [
    "lin=[]\n",
    "with open('numeros1.txt','r') as f:\n",
    "    for linha in f:\n",
    "        if '**' in linha: # Identifica linhas que possuam **\n",
    "            lin.append(linha)\n",
    "            break\n",
    "print(lin)"
   ]
  },
  {
   "cell_type": "code",
   "execution_count": 316,
   "metadata": {
    "scrolled": true
   },
   "outputs": [
    {
     "name": "stdout",
     "output_type": "stream",
     "text": [
      "['0\\n', '1\\n', '2\\n']\n"
     ]
    }
   ],
   "source": [
    "lista=[]\n",
    "with open('numeros1.txt','r') as f:\n",
    "    for linha in f:\n",
    "        if '**' in linha: # Identifica linhas que possuam **\n",
    "            continue\n",
    "        lista.append(linha)   \n",
    "print(lista)"
   ]
  },
  {
   "cell_type": "code",
   "execution_count": 317,
   "metadata": {
    "scrolled": true
   },
   "outputs": [
    {
     "name": "stdout",
     "output_type": "stream",
     "text": [
      "[0.0, 1.0, 2.0]\n"
     ]
    }
   ],
   "source": [
    "lista=[]\n",
    "with open('numeros1.txt','r') as f:\n",
    "    for linha in f:\n",
    "        if '**' in linha: # Identifica linhas que possuam **\n",
    "            continue\n",
    "        lista.append(float(linha))   \n",
    "print(lista)"
   ]
  },
  {
   "cell_type": "markdown",
   "metadata": {},
   "source": [
    "**Lendo arquivo \"numeros2.txt\":**"
   ]
  },
  {
   "cell_type": "code",
   "execution_count": 323,
   "metadata": {
    "scrolled": true
   },
   "outputs": [
    {
     "name": "stdout",
     "output_type": "stream",
     "text": [
      "**Numbers:\n",
      "\n",
      "0.000000 1.000000\n",
      "2.000000 3.000000\n",
      "4.000000 5.000000\n",
      "\n"
     ]
    },
    {
     "data": {
      "text/plain": [
       "'**Numbers:\\n\\n0.000000 1.000000\\n2.000000 3.000000\\n4.000000 5.000000\\n'"
      ]
     },
     "execution_count": 323,
     "metadata": {},
     "output_type": "execute_result"
    }
   ],
   "source": [
    "with open('numeros2.txt') as f:\n",
    "    linhas = f.read()\n",
    "print(linhas)\n",
    "linhas"
   ]
  },
  {
   "cell_type": "code",
   "execution_count": null,
   "metadata": {},
   "outputs": [],
   "source": [
    "#Obtém apenas os números do arquivo"
   ]
  },
  {
   "cell_type": "code",
   "execution_count": 339,
   "metadata": {},
   "outputs": [
    {
     "name": "stdout",
     "output_type": "stream",
     "text": [
      "[['0.000000', '1.000000'], ['2.000000', '3.000000'], ['4.000000', '5.000000']]\n"
     ]
    }
   ],
   "source": [
    "lista=[]\n",
    "with open('numeros2.txt') as f:\n",
    "    for linha in f:\n",
    "        if linha.strip().startswith('**') or linha.strip() == '': # Identifica linhas que começam com ** ou linhas em branco\n",
    "            continue        \n",
    "        lista.append(linha.split())\n",
    "print(lista)"
   ]
  },
  {
   "cell_type": "code",
   "execution_count": null,
   "metadata": {},
   "outputs": [],
   "source": [
    "#Transforma a string anterior em float"
   ]
  },
  {
   "cell_type": "code",
   "execution_count": 340,
   "metadata": {
    "scrolled": true
   },
   "outputs": [
    {
     "name": "stdout",
     "output_type": "stream",
     "text": [
      "[[0.0, 1.0], [2.0, 3.0], [4.0, 5.0]]\n"
     ]
    }
   ],
   "source": [
    "lista=[]\n",
    "with open('numeros2.txt') as f:\n",
    "    for linha in f:\n",
    "        if linha.strip().startswith('**') or linha.strip() == '': # Identifica linhas que começam com ** ou linhas em branco\n",
    "            continue        \n",
    "        lista.append(list(map(float,linha.split())))  \n",
    "        #l.append([float(x) for x in linha.split()]) # Outra forma de chegar ao mesmo resultado \n",
    "print(lista)"
   ]
  },
  {
   "cell_type": "code",
   "execution_count": 325,
   "metadata": {},
   "outputs": [
    {
     "name": "stdout",
     "output_type": "stream",
     "text": [
      "[0.0, 1.0, 2.0, 3.0, 4.0, 5.0]\n"
     ]
    }
   ],
   "source": [
    "l=[]\n",
    "with open('numeros2.txt') as f:\n",
    "    for linha in f:\n",
    "        if linha.strip().startswith('**') or linha.strip() == '': # Identifica linhas que começam com ** ou linhas em branco\n",
    "            continue        \n",
    "        l += list(map(float,linha.split()))  \n",
    "        #l += [float(x) for x in linha.split()] # Outra forma de chegar ao mesmo resultado \n",
    "print(l)"
   ]
  },
  {
   "cell_type": "code",
   "execution_count": 341,
   "metadata": {},
   "outputs": [
    {
     "name": "stdout",
     "output_type": "stream",
     "text": [
      "[1, 2, 3, 4, 5, 6]\n",
      "[[1, 2, 3], [4, 5, 6]]\n"
     ]
    }
   ],
   "source": [
    "lista1=[1,2,3]\n",
    "lista2=[4,5,6]\n",
    "listafinal1 = lista1+lista2\n",
    "\n",
    "listafinal2 =[]\n",
    "listafinal2.append(lista1)\n",
    "listafinal2.append(lista2)\n",
    "\n",
    "print(listafinal1)\n",
    "print(listafinal2)"
   ]
  },
  {
   "cell_type": "markdown",
   "metadata": {},
   "source": [
    "**Criando uma função para ler uma lista com valores reais de um arquivo qualquer:**"
   ]
  },
  {
   "cell_type": "code",
   "execution_count": 344,
   "metadata": {},
   "outputs": [],
   "source": [
    "def levalores(arquivo):\n",
    "    l=[]\n",
    "    with open(arquivo) as f:\n",
    "        for linha in f:\n",
    "            if linha.strip().startswith('**') or linha.strip() == '': \n",
    "                continue        \n",
    "            l += list(map(float,linha.split()))      \n",
    "    return l"
   ]
  },
  {
   "cell_type": "code",
   "execution_count": 345,
   "metadata": {
    "scrolled": false
   },
   "outputs": [
    {
     "name": "stdout",
     "output_type": "stream",
     "text": [
      "[0.0, 1.0, 2.0]\n"
     ]
    }
   ],
   "source": [
    "l1 = levalores('numeros1.txt')\n",
    "print(l1)"
   ]
  },
  {
   "cell_type": "code",
   "execution_count": 346,
   "metadata": {
    "scrolled": false
   },
   "outputs": [
    {
     "name": "stdout",
     "output_type": "stream",
     "text": [
      "[0.0, 1.0, 2.0, 3.0, 4.0, 5.0]\n"
     ]
    }
   ],
   "source": [
    "l2 = levalores('numeros2.txt')\n",
    "print(l2)"
   ]
  },
  {
   "cell_type": "markdown",
   "metadata": {},
   "source": [
    "# 5.Classes\n"
   ]
  },
  {
   "cell_type": "code",
   "execution_count": null,
   "metadata": {},
   "outputs": [],
   "source": [
    "class Greeter:\n",
    "\n",
    "    # Constructor\n",
    "    def __init__(self, name):\n",
    "        self.name = name  # Create an instance variable\n",
    "\n",
    "    # Instance method\n",
    "    def greet(self, upper=False):\n",
    "        if upper:\n",
    "            print('HELLO, %s!' % self.name.upper())\n",
    "        else:\n",
    "            print('Hello, %s' % self.name)\n",
    "\n",
    "                      \n",
    "g = Greeter('Fred')   # Construct an instance of the Greeter class\n",
    "g.greet()             # Call an instance method; prints \"Hello, Fred\"\n",
    "g.greet(upper=True)   # Call an instance method; prints \"HELLO, FRED!\""
   ]
  },
  {
   "cell_type": "code",
   "execution_count": null,
   "metadata": {
    "collapsed": true
   },
   "outputs": [],
   "source": []
  }
 ],
 "metadata": {
  "kernelspec": {
   "display_name": "Python 3",
   "language": "python",
   "name": "python3"
  },
  "language_info": {
   "codemirror_mode": {
    "name": "ipython",
    "version": 3
   },
   "file_extension": ".py",
   "mimetype": "text/x-python",
   "name": "python",
   "nbconvert_exporter": "python",
   "pygments_lexer": "ipython3",
   "version": "3.7.3"
  }
 },
 "nbformat": 4,
 "nbformat_minor": 2
}
