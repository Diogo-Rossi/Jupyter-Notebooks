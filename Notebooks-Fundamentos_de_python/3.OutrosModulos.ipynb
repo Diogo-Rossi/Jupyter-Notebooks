{
 "cells": [
  {
   "cell_type": "markdown",
   "metadata": {},
   "source": [
    "# 1. Módulo sys"
   ]
  },
  {
   "cell_type": "code",
   "execution_count": 5,
   "metadata": {},
   "outputs": [],
   "source": [
    "#O módulo SYS permite usar um grupo de parâmetros de entrada e jogar dentro de um código já feito do tipo .PY\n",
    "import sys"
   ]
  },
  {
   "cell_type": "markdown",
   "metadata": {},
   "source": [
    "### Argumentos passados através da linha de comando"
   ]
  },
  {
   "cell_type": "markdown",
   "metadata": {},
   "source": [
    "Foi gerado um arquivo *** modulosys.py*** que possui as seguintes linhas de código:\n",
    "\n",
    "```python\n",
    "import sys\n",
    "print(\"Numero de parametros: %d \\n\" % len(sys.argv))\n",
    "for i, p in enumerate(sys.argv):\n",
    "    print(\"Parametro %d = %s\" % (i,p))\n",
    "```"
   ]
  },
  {
   "cell_type": "markdown",
   "metadata": {},
   "source": [
    "Ao chamar o script *** modulosys.py *** podemos passar parâmetros de entrada e acessá-los via variável ** sys.argv ** "
   ]
  },
  {
   "cell_type": "code",
   "execution_count": 8,
   "metadata": {
    "scrolled": true
   },
   "outputs": [
    {
     "name": "stdout",
     "output_type": "stream",
     "text": [
      "Numero de parametros: 5 \n",
      "\n",
      "Parametro 0 = modulosys.py\n",
      "Parametro 1 = primeiro\n",
      "Parametro 2 = 2\n",
      "Parametro 3 = file.txt\n",
      "Parametro 4 = Texto com espaco\n"
     ]
    }
   ],
   "source": [
    "#O módulo SYS permite usar um grupo de parâmetros de entrada e jogar dentro de um código já feito do tipo .PY\n",
    "#No caso abaixo, o código MODULOSYS.PY simplesmente os printa os parâmetros de entrada\n",
    "#Outro exemplo de uso: pode ser usado com um código .PY que chama um simulador e usa vários .DAT\n",
    "%run modulosys.py primeiro 2 file.txt \"Texto com espaco\""
   ]
  },
  {
   "cell_type": "markdown",
   "metadata": {},
   "source": [
    "### Forçando a saída do Python"
   ]
  },
  {
   "cell_type": "code",
   "execution_count": 7,
   "metadata": {},
   "outputs": [
    {
     "name": "stdout",
     "output_type": "stream",
     "text": [
      "1\n",
      "2\n",
      "3\n",
      "4\n",
      "5\n",
      "6\n",
      "7\n",
      "8\n",
      "9\n",
      "10\n"
     ]
    },
    {
     "ename": "SystemExit",
     "evalue": "1",
     "output_type": "error",
     "traceback": [
      "An exception has occurred, use %tb to see the full traceback.\n",
      "\u001b[1;31mSystemExit\u001b[0m\u001b[1;31m:\u001b[0m 1\n"
     ]
    },
    {
     "name": "stderr",
     "output_type": "stream",
     "text": [
      "C:\\ProgramData\\Anaconda3\\lib\\site-packages\\IPython\\core\\interactiveshell.py:2918: UserWarning: To exit: use 'exit', 'quit', or Ctrl-D.\n",
      "  warn(\"To exit: use 'exit', 'quit', or Ctrl-D.\", stacklevel=1)\n"
     ]
    }
   ],
   "source": [
    "#O comando SYS.EXIT(1) sai do PYTHON\n",
    "#No caso abaixo, o WHILE seria infinito, mas forçamos a parar quando i=10\n",
    "i=0\n",
    "while True:\n",
    "    i +=1\n",
    "    print(i)\n",
    "    if i==10:\n",
    "        sys.exit(1)\n",
    "print(\"texto que nao sera impresso\")"
   ]
  },
  {
   "cell_type": "markdown",
   "metadata": {},
   "source": [
    "# 2. Módulo os"
   ]
  },
  {
   "cell_type": "code",
   "execution_count": 9,
   "metadata": {},
   "outputs": [],
   "source": [
    "#O módulo OS trabalha com diretórios e arquivos\n",
    "import os"
   ]
  },
  {
   "cell_type": "markdown",
   "metadata": {},
   "source": [
    "### Arquivos e diretórios"
   ]
  },
  {
   "cell_type": "markdown",
   "metadata": {},
   "source": [
    "Diretório atual"
   ]
  },
  {
   "cell_type": "code",
   "execution_count": 16,
   "metadata": {
    "scrolled": false
   },
   "outputs": [
    {
     "data": {
      "text/plain": [
       "'C:\\\\Users\\\\bg0h\\\\Desktop\\\\Fundamentos_de_python'"
      ]
     },
     "execution_count": 16,
     "metadata": {},
     "output_type": "execute_result"
    }
   ],
   "source": [
    "#O módulo OS trabalha com diretórios e arquivos\n",
    "#No caso abaixo, o comando OS.GETCWD() obtém o caminho do diretório atual\n",
    "os.getcwd()"
   ]
  },
  {
   "cell_type": "markdown",
   "metadata": {},
   "source": [
    "Listando os arquivos do diretório atual"
   ]
  },
  {
   "cell_type": "code",
   "execution_count": 17,
   "metadata": {
    "scrolled": true
   },
   "outputs": [
    {
     "data": {
      "text/plain": [
       "['.ipynb_checkpoints',\n",
       " '0.Abertura.ipynb',\n",
       " '1.Introducao.ipynb',\n",
       " '2.NumpyMatplotlibSubprocess.ipynb',\n",
       " '3.OutrosModulos.ipynb',\n",
       " 'Broadcasting.png',\n",
       " 'google_trend.png',\n",
       " 'leastsquare.png',\n",
       " 'matplotlib.png',\n",
       " 'matrixdotleft.png',\n",
       " 'matrixdotright.png',\n",
       " 'modulosys.py',\n",
       " 'numeros1.txt',\n",
       " 'numeros10.txt',\n",
       " 'numeros2.txt',\n",
       " 'Numpy.png',\n",
       " 'OlaMundo.py',\n",
       " 'python.png',\n",
       " 'simres',\n",
       " '_testedir']"
      ]
     },
     "execution_count": 17,
     "metadata": {},
     "output_type": "execute_result"
    }
   ],
   "source": [
    "#O comando OS.LISTDIR() lista todos os arquivos do diretório atual\n",
    "os.listdir()"
   ]
  },
  {
   "cell_type": "markdown",
   "metadata": {},
   "source": [
    "Criar diretórios"
   ]
  },
  {
   "cell_type": "code",
   "execution_count": 21,
   "metadata": {},
   "outputs": [
    {
     "data": {
      "text/plain": [
       "['.ipynb_checkpoints',\n",
       " '0.Abertura.ipynb',\n",
       " '1.Introducao.ipynb',\n",
       " '2.NumpyMatplotlibSubprocess.ipynb',\n",
       " '3.OutrosModulos.ipynb',\n",
       " 'Broadcasting.png',\n",
       " 'google_trend.png',\n",
       " 'leastsquare.png',\n",
       " 'matplotlib.png',\n",
       " 'matrixdotleft.png',\n",
       " 'matrixdotright.png',\n",
       " 'modulosys.py',\n",
       " 'numeros1.txt',\n",
       " 'numeros10.txt',\n",
       " 'numeros2.txt',\n",
       " 'Numpy.png',\n",
       " 'OlaMundo.py',\n",
       " 'python.png',\n",
       " 'simres',\n",
       " '_testedir',\n",
       " '_testedir2',\n",
       " '_testedir3']"
      ]
     },
     "execution_count": 21,
     "metadata": {},
     "output_type": "execute_result"
    }
   ],
   "source": [
    "#O comando OS.MKDIR() cria uma nova pasta\n",
    "#No caso abaixo, cria a pasta \"_testedir\"\n",
    "#Depois pede pra listar os arquivos do diretório atual com OS.LISTDIR()\n",
    "os.mkdir(\"_testedir3\")\n",
    "os.listdir()"
   ]
  },
  {
   "cell_type": "markdown",
   "metadata": {},
   "source": [
    "Renomear arquivo ou diretório"
   ]
  },
  {
   "cell_type": "code",
   "execution_count": 22,
   "metadata": {
    "scrolled": true
   },
   "outputs": [
    {
     "data": {
      "text/plain": [
       "['.ipynb_checkpoints',\n",
       " '0.Abertura.ipynb',\n",
       " '1.Introducao.ipynb',\n",
       " '2.NumpyMatplotlibSubprocess.ipynb',\n",
       " '3.OutrosModulos.ipynb',\n",
       " 'Broadcasting.png',\n",
       " 'google_trend.png',\n",
       " 'leastsquare.png',\n",
       " 'matplotlib.png',\n",
       " 'matrixdotleft.png',\n",
       " 'matrixdotright.png',\n",
       " 'modulosys.py',\n",
       " 'numeros1.txt',\n",
       " 'numeros10.txt',\n",
       " 'numeros2.txt',\n",
       " 'Numpy.png',\n",
       " 'OlaMundo.py',\n",
       " 'python.png',\n",
       " 'simres',\n",
       " '_novo_testedir',\n",
       " '_testedir2',\n",
       " '_testedir3']"
      ]
     },
     "execution_count": 22,
     "metadata": {},
     "output_type": "execute_result"
    }
   ],
   "source": [
    "#O comando OS.RENAME() cria uma nova pasta\n",
    "#No caso abaixo, renomeia a pasta \"_testedir\" para \"_novo_testedir\"\n",
    "#Depois pede pra listar os arquivos do diretório atual com OS.LISTDIR()\n",
    "os.rename(\"_testedir\", \"_novo_testedir\")\n",
    "os.listdir()"
   ]
  },
  {
   "cell_type": "markdown",
   "metadata": {},
   "source": [
    "Listando os arquivos de um diretório específico"
   ]
  },
  {
   "cell_type": "code",
   "execution_count": 23,
   "metadata": {},
   "outputs": [
    {
     "data": {
      "text/plain": [
       "['equilibrium.inc',\n",
       " 'model.dat',\n",
       " 'model.out',\n",
       " 'model.pres',\n",
       " 'model.sw',\n",
       " 'model.well',\n",
       " 'observeddata.obs',\n",
       " 'PERMI.inc',\n",
       " 'recurrent_data.inc',\n",
       " 'standarddeviation.obs',\n",
       " 'TwoFlow.exe']"
      ]
     },
     "execution_count": 23,
     "metadata": {},
     "output_type": "execute_result"
    }
   ],
   "source": [
    "os.listdir('simres')"
   ]
  },
  {
   "cell_type": "markdown",
   "metadata": {},
   "source": [
    "### os.path"
   ]
  },
  {
   "cell_type": "code",
   "execution_count": null,
   "metadata": {},
   "outputs": [],
   "source": [
    "filename = \"simres/model.dat\"\n",
    "\n",
    "print(\"split\", \"=>\",    os.path.split(filename))\n",
    "print(\"splitext\", \"=>\", os.path.splitext(filename))\n",
    "print(\"dirname\", \"=>\",  os.path.dirname(filename))\n",
    "print(\"basename\", \"=>\", os.path.basename(filename))\n",
    "print(\"abspath\", \"=>\",  os.path.abspath(filename))"
   ]
  },
  {
   "cell_type": "markdown",
   "metadata": {},
   "source": [
    "Verifica se um arquivo ou diretório existe"
   ]
  },
  {
   "cell_type": "code",
   "execution_count": null,
   "metadata": {},
   "outputs": [],
   "source": [
    "arquivo = \"_novo_testedir\"\n",
    "if not os.path.exists(arquivo):\n",
    "    print('*** Arquivo \\'' + arquivo + '\\' não encontrado!')\n",
    "    sys.exit()"
   ]
  },
  {
   "cell_type": "markdown",
   "metadata": {},
   "source": [
    "# 3. Módulo glob"
   ]
  },
  {
   "cell_type": "code",
   "execution_count": 24,
   "metadata": {},
   "outputs": [],
   "source": [
    "import glob"
   ]
  },
  {
   "cell_type": "code",
   "execution_count": 27,
   "metadata": {},
   "outputs": [
    {
     "data": {
      "text/plain": [
       "['Broadcasting.png',\n",
       " 'google_trend.png',\n",
       " 'leastsquare.png',\n",
       " 'matplotlib.png',\n",
       " 'matrixdotleft.png',\n",
       " 'matrixdotright.png',\n",
       " 'Numpy.png',\n",
       " 'python.png']"
      ]
     },
     "execution_count": 27,
     "metadata": {},
     "output_type": "execute_result"
    }
   ],
   "source": [
    "glob.glob(\"*.png\")\n",
    "#glob.glob(\"simres/*.inc\")"
   ]
  },
  {
   "cell_type": "markdown",
   "metadata": {},
   "source": [
    "# 3. Módulo time"
   ]
  },
  {
   "cell_type": "code",
   "execution_count": 28,
   "metadata": {},
   "outputs": [],
   "source": [
    "import time"
   ]
  },
  {
   "cell_type": "markdown",
   "metadata": {},
   "source": [
    "Lendo a a data e hora atual"
   ]
  },
  {
   "cell_type": "code",
   "execution_count": 31,
   "metadata": {},
   "outputs": [
    {
     "name": "stdout",
     "output_type": "stream",
     "text": [
      "time.struct_time(tm_year=2019, tm_mon=7, tm_mday=24, tm_hour=9, tm_min=51, tm_sec=43, tm_wday=2, tm_yday=205, tm_isdst=0)\n",
      "\n",
      "24/7/2019\n",
      "09:51:43\n",
      "\n"
     ]
    }
   ],
   "source": [
    "agora = time.localtime()\n",
    "print(agora)\n",
    "print(\"\\n%d/%d/%d\"%(agora.tm_mday,agora.tm_mon,agora.tm_year))\n",
    "print(\"%.2d:%.2d:%.2d\\n\"%(agora.tm_hour,agora.tm_min,agora.tm_sec))"
   ]
  },
  {
   "cell_type": "code",
   "execution_count": 32,
   "metadata": {},
   "outputs": [
    {
     "name": "stdout",
     "output_type": "stream",
     "text": [
      "Wed Jul 24 09:51:43 2019\n"
     ]
    }
   ],
   "source": [
    "print(time.asctime(agora)) "
   ]
  },
  {
   "cell_type": "code",
   "execution_count": 33,
   "metadata": {},
   "outputs": [
    {
     "name": "stdout",
     "output_type": "stream",
     "text": [
      "Como esperar um tempo determinado antes de executar parte do codigo\n",
      "O valor passado na funcao sleep e em segundos \n"
     ]
    }
   ],
   "source": [
    "print(\"Como esperar um tempo determinado antes de executar parte do codigo\")\n",
    "time.sleep(5)\n",
    "print(\"O valor passado na funcao sleep e em segundos \")"
   ]
  },
  {
   "cell_type": "markdown",
   "metadata": {},
   "source": [
    "Como marcar o tempo de execução"
   ]
  },
  {
   "cell_type": "code",
   "execution_count": 34,
   "metadata": {},
   "outputs": [
    {
     "name": "stdout",
     "output_type": "stream",
     "text": [
      "0 1 2 3 4 5 6 7 8 9 \n",
      "#tempo de execucao: 1.00 segundos\n"
     ]
    }
   ],
   "source": [
    "ini = time.time() \n",
    "for i in range(10):\n",
    "    time.sleep(0.1)\n",
    "    print(i, end=' ')\n",
    "fim = time.time() \n",
    "print('\\n#tempo de execucao: %.2f segundos' % (fim-ini))"
   ]
  },
  {
   "cell_type": "markdown",
   "metadata": {},
   "source": [
    "# 3. Módulo datetime"
   ]
  },
  {
   "cell_type": "code",
   "execution_count": 35,
   "metadata": {},
   "outputs": [],
   "source": [
    "import datetime"
   ]
  },
  {
   "cell_type": "code",
   "execution_count": 36,
   "metadata": {},
   "outputs": [
    {
     "name": "stdout",
     "output_type": "stream",
     "text": [
      "2017\n",
      "12\n",
      "30\n"
     ]
    }
   ],
   "source": [
    "data = datetime.date(2017,12,30)\n",
    "print(data.year)\n",
    "print(data.month)\n",
    "print(data.day)"
   ]
  },
  {
   "cell_type": "code",
   "execution_count": 37,
   "metadata": {},
   "outputs": [],
   "source": [
    "datainicial = datetime.date(2017,12,30)\n",
    "datafinal = datetime.date(2018,12,31)"
   ]
  },
  {
   "cell_type": "code",
   "execution_count": 38,
   "metadata": {},
   "outputs": [
    {
     "data": {
      "text/plain": [
       "datetime.timedelta(366)"
      ]
     },
     "execution_count": 38,
     "metadata": {},
     "output_type": "execute_result"
    }
   ],
   "source": [
    "datafinal-datainicial"
   ]
  },
  {
   "cell_type": "code",
   "execution_count": 39,
   "metadata": {},
   "outputs": [
    {
     "data": {
      "text/plain": [
       "True"
      ]
     },
     "execution_count": 39,
     "metadata": {},
     "output_type": "execute_result"
    }
   ],
   "source": [
    "datafinal-datainicial > datetime.timedelta(365)"
   ]
  },
  {
   "cell_type": "code",
   "execution_count": null,
   "metadata": {
    "collapsed": true
   },
   "outputs": [],
   "source": []
  }
 ],
 "metadata": {
  "kernelspec": {
   "display_name": "Python 3",
   "language": "python",
   "name": "python3"
  },
  "language_info": {
   "codemirror_mode": {
    "name": "ipython",
    "version": 3
   },
   "file_extension": ".py",
   "mimetype": "text/x-python",
   "name": "python",
   "nbconvert_exporter": "python",
   "pygments_lexer": "ipython3",
   "version": "3.6.4"
  }
 },
 "nbformat": 4,
 "nbformat_minor": 2
}
