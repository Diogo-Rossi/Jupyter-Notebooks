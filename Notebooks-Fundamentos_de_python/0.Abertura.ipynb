{
 "cells": [
  {
   "cell_type": "markdown",
   "metadata": {},
   "source": [
    "<img src=\"python.png\" >"
   ]
  },
  {
   "cell_type": "markdown",
   "metadata": {},
   "source": [
    "# Introdução\n",
    "\n",
    "*Python is an easy to learn, powerful programming language. It has efficient high-level data structures and a simple but effective approach to object-oriented programming. Python’s elegant syntax and dynamic typing, together with its interpreted nature, make it an ideal language for scripting and rapid application development in many areas on most platforms.*  \n",
    "\n",
    "<https://www.python.org/>\n",
    "\n",
    "A linguagem foi projetada com a filosofia de enfatizar a importância do esforço do programador sobre o esforço computacional. Prioriza a legibilidade do código sobre a velocidade ou expressividade. Combina uma sintaxe concisa e clara com os recursos poderosos de sua biblioteca padrão e por módulos (**numpy, scipy, matplotlib, panda...**) desenvolvidos por terceiros.\n",
    "\n",
    "<https://pt.wikipedia.org/wiki/Python>\n",
    "\n",
    "Onde baixar:\n",
    "\n",
    "<https://www.anaconda.com/download/> \n",
    "\n",
    "<https://store.enthought.com/downloads/>"
   ]
  },
  {
   "cell_type": "markdown",
   "metadata": {},
   "source": [
    "# Histórico\n",
    "\n",
    "A linguagem foi criada em 1990 por Guido van Rossum, no Instituto Nacional de Pesquisa para Matemática e Ciência da Computação da Holanda (CWI) e tinha originalmente foco em usuários como físicos e engenheiros. O Python foi concebido a partir de outra linguagem existente na época, chamada ABC.\n",
    "\n",
    "O nome Python foi tirado por Guido van Rossum do programa da TV britânica Monty Python Flying Circus.\n",
    "\n",
    "Hoje, a linguagem é bem aceita na indústria por empresas de alta tecnologia, tais como:\n",
    "\n",
    "- Google (aplicações Web).\n",
    "- Yahoo (aplicações Web).\n",
    "- Microsoft (IronPython: Python para .NET)\n",
    "- Nokia (disponível para as linhas recentes de celulares e PDAs).\n",
    "- Disney (animações 3D).\n",
    "\n",
    "<http://nbviewer.jupyter.org/github/ricardoduarte/python-para-desenvolvedores/blob/master/Capitulo1/Capitulo1_Introducao.ipynb>"
   ]
  },
  {
   "cell_type": "markdown",
   "metadata": {},
   "source": [
    "# popularidade\n",
    "\n",
    "<img src=\"google_trend.png\" width=\"400\" >\n",
    "\n",
    "fonte: <https://www.economist.com/science-and-technology/2018/07/19/python-has-brought-computer-programming-to-a-vast-new-audience>"
   ]
  },
  {
   "cell_type": "markdown",
   "metadata": {},
   "source": [
    "# IPython\n",
    "\n",
    " - IPython is an advanced interactive Python shell. To a certain extent they resemble the type of interface you might see in a commercial program like Mathematica or Matlab.\n",
    "\n",
    " - IPython is a powerful interface to the Python language. But it is certainly not the only one. Besides IPython, the most common way to use Python is to write scripts, files with the ** *.py **  extension.\n",
    "\n",
    "*** Abrir o Spyder (Anaconda 3) ***\n",
    "\n",
    "*** Rodar o scrip OlaMundo.py ***"
   ]
  },
  {
   "cell_type": "markdown",
   "metadata": {},
   "source": [
    "# IPython Notebook"
   ]
  },
  {
   "cell_type": "markdown",
   "metadata": {},
   "source": [
    "In 2011, IPython introduced a new tool named the Notebook. Inspired by scientific programs like Mathematica or Sage, the Notebook offers a modern and powerful web interface to Python.\n",
    "\n",
    "Notebooks provide a way to combine Python code, documentation, analysis, output, and figures all together in one file."
   ]
  },
  {
   "cell_type": "code",
   "execution_count": null,
   "metadata": {
    "collapsed": true
   },
   "outputs": [],
   "source": []
  },
  {
   "cell_type": "markdown",
   "metadata": {},
   "source": [
    "Precione as teclas \"Ctrl + Enter\" para executar a célula selecionada. Precione a letra \"b\" para inserir uma célula de comandos abaixo da atual e precione a letra \"a\" para inserir acima. Precioane \"dd\" para remover a célula selecionada.    "
   ]
  },
  {
   "cell_type": "markdown",
   "metadata": {},
   "source": [
    "Clicar em *** Help -> User Interface Tour ***"
   ]
  },
  {
   "cell_type": "markdown",
   "metadata": {},
   "source": [
    "Clicar em *** Help -> Keyboard Shortcuts ***"
   ]
  },
  {
   "cell_type": "markdown",
   "metadata": {},
   "source": [
    "Livro Python para Desenvolvedores : \n",
    "\n",
    "<http://ricardoduarte.github.io/python-para-desenvolvedores/>"
   ]
  },
  {
   "cell_type": "code",
   "execution_count": null,
   "metadata": {
    "collapsed": true
   },
   "outputs": [],
   "source": []
  }
 ],
 "metadata": {
  "kernelspec": {
   "display_name": "Python 3",
   "language": "python",
   "name": "python3"
  },
  "language_info": {
   "codemirror_mode": {
    "name": "ipython",
    "version": 3
   },
   "file_extension": ".py",
   "mimetype": "text/x-python",
   "name": "python",
   "nbconvert_exporter": "python",
   "pygments_lexer": "ipython3",
   "version": "3.7.3"
  }
 },
 "nbformat": 4,
 "nbformat_minor": 2
}
