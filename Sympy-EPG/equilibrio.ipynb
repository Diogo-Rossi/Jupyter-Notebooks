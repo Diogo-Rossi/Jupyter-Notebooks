{
 "cells": [
  {
   "cell_type": "code",
   "execution_count": null,
   "id": "c88babfb",
   "metadata": {},
   "outputs": [],
   "source": [
    "from sympy import *\n",
    "\n",
    "P, r, z, nu = symbols('P r z nu', real=True, positive=True)\n",
    "\n",
    "# Tensão normal vertical (sigma_z)\n",
    "sigma_z = (3*P * z**3) / (2*pi * (r**2 + z**2)**(5/2))\n",
    "# Tensão normal radial (sigma_r)\n",
    "sigma_r = (P / (2*pi)) * ( (3*r**2*z) / (r**2 + z**2)**(5/2) - (1 - 2*nu) / (r**2 + z**2 + z*sqrt(r**2 + z**2)) )\n",
    "# Equação de equilíbrio: d_sigma_r_r + d_tau_rz_z + (sigma_r - sigma_theta)/r\n",
    "sigma_theta = (P*(1 - 2*nu)/(2*pi)) * (1/(r**2 + z**2) - z/(r**2 + z**2)**(3/2))\n",
    "# Tensão cisalhante (tau_rz)\n",
    "tau_rz = (3*P * r * z**2) / (2*pi * (r**2 + z**2)**(5/2))\n",
    "\n",
    "dsr = diff(sigma_r, r, 1)\n",
    "dtz = diff(tau_rz, z, 1)"
   ]
  },
  {
   "cell_type": "code",
   "execution_count": 62,
   "id": "d75ddf4a",
   "metadata": {},
   "outputs": [
    {
     "data": {
      "text/html": [
       "<pre style=\"white-space:pre;overflow-x:auto;line-height:normal;font-family:Menlo,'DejaVu Sans Mono',consolas,'Courier New',monospace\"></pre>\n"
      ],
      "text/plain": []
     },
     "metadata": {},
     "output_type": "display_data"
    },
    {
     "data": {
      "text/latex": [
       "$\\displaystyle \\frac{P \\left(\\frac{3 r^{2} z}{\\left(r^{2} + z^{2}\\right)^{2.5}} - \\frac{1 - 2 \\nu}{r^{2} + z^{2} + z \\sqrt{r^{2} + z^{2}}}\\right)}{2 \\pi}$"
      ],
      "text/plain": [
       "P*\u001b[1m(\u001b[0m\u001b[1;36m3\u001b[0m*r**\u001b[1;36m2\u001b[0m*z/\u001b[1m(\u001b[0mr**\u001b[1;36m2\u001b[0m + z**\u001b[1;36m2\u001b[0m\u001b[1m)\u001b[0m**\u001b[1;36m2.5\u001b[0m - \u001b[1m(\u001b[0m\u001b[1;36m1\u001b[0m - \u001b[1;36m2\u001b[0m*nu\u001b[1m)\u001b[0m\u001b[35m/\u001b[0m\u001b[1m(\u001b[0mr**\u001b[1;36m2\u001b[0m + z**\u001b[1;36m2\u001b[0m + z*\u001b[1;35msqrt\u001b[0m\u001b[1m(\u001b[0mr**\u001b[1;36m2\u001b[0m + z**\u001b[1;36m2\u001b[0m\u001b[1m)\u001b[0m\u001b[1m)\u001b[0m\u001b[1m)\u001b[0m\u001b[35m/\u001b[0m\u001b[1m(\u001b[0m\u001b[1;36m2\u001b[0m*pi\u001b[1m)\u001b[0m"
      ]
     },
     "execution_count": 62,
     "metadata": {},
     "output_type": "execute_result"
    }
   ],
   "source": [
    "sigma_r"
   ]
  },
  {
   "cell_type": "code",
   "execution_count": 59,
   "id": "351a49b9",
   "metadata": {},
   "outputs": [
    {
     "data": {
      "text/html": [
       "<pre style=\"white-space:pre;overflow-x:auto;line-height:normal;font-family:Menlo,'DejaVu Sans Mono',consolas,'Courier New',monospace\"></pre>\n"
      ],
      "text/plain": []
     },
     "metadata": {},
     "output_type": "display_data"
    },
    {
     "data": {
      "text/latex": [
       "$\\displaystyle \\frac{P \\left(1 - 2 \\nu\\right) \\left(- \\frac{z}{\\left(r^{2} + z^{2}\\right)^{1.5}} + \\frac{1}{r^{2} + z^{2}}\\right)}{2 \\pi}$"
      ],
      "text/plain": [
       "P*\u001b[1m(\u001b[0m\u001b[1;36m1\u001b[0m - \u001b[1;36m2\u001b[0m*nu\u001b[1m)\u001b[0m*\u001b[1m(\u001b[0m-z/\u001b[1m(\u001b[0mr**\u001b[1;36m2\u001b[0m + z**\u001b[1;36m2\u001b[0m\u001b[1m)\u001b[0m**\u001b[1;36m1.5\u001b[0m + \u001b[1;36m1\u001b[0m/\u001b[1m(\u001b[0mr**\u001b[1;36m2\u001b[0m + z**\u001b[1;36m2\u001b[0m\u001b[1m)\u001b[0m\u001b[1m)\u001b[0m\u001b[35m/\u001b[0m\u001b[1m(\u001b[0m\u001b[1;36m2\u001b[0m*pi\u001b[1m)\u001b[0m"
      ]
     },
     "execution_count": 59,
     "metadata": {},
     "output_type": "execute_result"
    }
   ],
   "source": [
    "sigma_theta"
   ]
  },
  {
   "cell_type": "code",
   "execution_count": 60,
   "id": "9c27697c",
   "metadata": {},
   "outputs": [
    {
     "data": {
      "text/html": [
       "<pre style=\"white-space:pre;overflow-x:auto;line-height:normal;font-family:Menlo,'DejaVu Sans Mono',consolas,'Courier New',monospace\"></pre>\n"
      ],
      "text/plain": []
     },
     "metadata": {},
     "output_type": "display_data"
    },
    {
     "data": {
      "text/latex": [
       "$\\displaystyle \\frac{3 P r z^{2}}{2 \\pi \\left(r^{2} + z^{2}\\right)^{2.5}}$"
      ],
      "text/plain": [
       "\u001b[1;36m3\u001b[0m*P*r*z**\u001b[1;36m2\u001b[0m/\u001b[1m(\u001b[0m\u001b[1;36m2\u001b[0m*pi*\u001b[1m(\u001b[0mr**\u001b[1;36m2\u001b[0m + z**\u001b[1;36m2\u001b[0m\u001b[1m)\u001b[0m**\u001b[1;36m2.5\u001b[0m\u001b[1m)\u001b[0m"
      ]
     },
     "execution_count": 60,
     "metadata": {},
     "output_type": "execute_result"
    }
   ],
   "source": [
    "tau_rz"
   ]
  },
  {
   "cell_type": "code",
   "execution_count": 72,
   "id": "12ac6653",
   "metadata": {},
   "outputs": [
    {
     "data": {
      "text/html": [
       "<pre style=\"white-space:pre;overflow-x:auto;line-height:normal;font-family:Menlo,'DejaVu Sans Mono',consolas,'Courier New',monospace\"></pre>\n"
      ],
      "text/plain": []
     },
     "metadata": {},
     "output_type": "display_data"
    },
    {
     "data": {
      "text/latex": [
       "$\\displaystyle - \\frac{7.5 P r z^{3}}{\\pi \\left(r^{2} + z^{2}\\right)^{3.5}} + \\frac{3 P r z}{\\pi \\left(r^{2} + z^{2}\\right)^{2.5}} + \\frac{P \\left(- \\frac{15.0 r^{3} z}{\\left(r^{2} + z^{2}\\right)^{3.5}} + \\frac{6 r z}{\\left(r^{2} + z^{2}\\right)^{2.5}} - \\frac{\\left(1 - 2 \\nu\\right) \\left(- \\frac{r z}{\\sqrt{r^{2} + z^{2}}} - 2 r\\right)}{\\left(r^{2} + z^{2} + z \\sqrt{r^{2} + z^{2}}\\right)^{2}}\\right)}{2 \\pi} + \\frac{- \\frac{P \\left(1 - 2 \\nu\\right) \\left(- \\frac{z}{\\left(r^{2} + z^{2}\\right)^{1.5}} + \\frac{1}{r^{2} + z^{2}}\\right)}{2 \\pi} + \\frac{P \\left(\\frac{3 r^{2} z}{\\left(r^{2} + z^{2}\\right)^{2.5}} - \\frac{1 - 2 \\nu}{r^{2} + z^{2} + z \\sqrt{r^{2} + z^{2}}}\\right)}{2 \\pi}}{r}$"
      ],
      "text/plain": [
       "\u001b[1;36m-7.5\u001b[0m*P*r*z**\u001b[1;36m3\u001b[0m/\u001b[1m(\u001b[0mpi*\u001b[1m(\u001b[0mr**\u001b[1;36m2\u001b[0m + z**\u001b[1;36m2\u001b[0m\u001b[1m)\u001b[0m**\u001b[1;36m3.5\u001b[0m\u001b[1m)\u001b[0m + \u001b[1;36m3\u001b[0m*P*r*z/\u001b[1m(\u001b[0mpi*\u001b[1m(\u001b[0mr**\u001b[1;36m2\u001b[0m + z**\u001b[1;36m2\u001b[0m\u001b[1m)\u001b[0m**\u001b[1;36m2.5\u001b[0m\u001b[1m)\u001b[0m + P*\u001b[1m(\u001b[0m\u001b[1;36m-15.0\u001b[0m*r**\u001b[1;36m3\u001b[0m*z/\u001b[1m(\u001b[0mr**\u001b[1;36m2\u001b[0m + z**\u001b[1;36m2\u001b[0m\u001b[1m)\u001b[0m**\u001b[1;36m3.5\u001b[0m + \u001b[1;36m6\u001b[0m*r*z/\u001b[1m(\u001b[0mr**\u001b[1;36m2\u001b[0m + z**\u001b[1;36m2\u001b[0m\u001b[1m)\u001b[0m**\u001b[1;36m2.5\u001b[0m - \u001b[1m(\u001b[0m\u001b[1;36m1\u001b[0m - \u001b[1;36m2\u001b[0m*nu\u001b[1m)\u001b[0m*\u001b[1m(\u001b[0m-r*z/\u001b[1;35msqrt\u001b[0m\u001b[1m(\u001b[0mr**\u001b[1;36m2\u001b[0m + z**\u001b[1;36m2\u001b[0m\u001b[1m)\u001b[0m - \u001b[1;36m2\u001b[0m*r\u001b[1m)\u001b[0m\u001b[35m/\u001b[0m\u001b[1m(\u001b[0mr**\u001b[1;36m2\u001b[0m + z**\u001b[1;36m2\u001b[0m + z*\u001b[1;35msqrt\u001b[0m\u001b[1m(\u001b[0mr**\u001b[1;36m2\u001b[0m + z**\u001b[1;36m2\u001b[0m\u001b[1m)\u001b[0m\u001b[1m)\u001b[0m**\u001b[1;36m2\u001b[0m\u001b[1m)\u001b[0m\u001b[35m/\u001b[0m\u001b[1m(\u001b[0m\u001b[1;36m2\u001b[0m*pi\u001b[1m)\u001b[0m + \u001b[1m(\u001b[0m-P*\u001b[1m(\u001b[0m\u001b[1;36m1\u001b[0m - \u001b[1;36m2\u001b[0m*nu\u001b[1m)\u001b[0m*\u001b[1m(\u001b[0m-z/\u001b[1m(\u001b[0mr**\u001b[1;36m2\u001b[0m + z**\u001b[1;36m2\u001b[0m\u001b[1m)\u001b[0m**\u001b[1;36m1.5\u001b[0m + \u001b[1;36m1\u001b[0m/\u001b[1m(\u001b[0mr**\u001b[1;36m2\u001b[0m + z**\u001b[1;36m2\u001b[0m\u001b[1m)\u001b[0m\u001b[1m)\u001b[0m\u001b[35m/\u001b[0m\u001b[1m(\u001b[0m\u001b[1;36m2\u001b[0m*pi\u001b[1m)\u001b[0m + P*\u001b[1m(\u001b[0m\u001b[1;36m3\u001b[0m*r**\u001b[1;36m2\u001b[0m*z/\u001b[1m(\u001b[0mr**\u001b[1;36m2\u001b[0m + z**\u001b[1;36m2\u001b[0m\u001b[1m)\u001b[0m**\u001b[1;36m2.5\u001b[0m - \u001b[1m(\u001b[0m\u001b[1;36m1\u001b[0m - \u001b[1;36m2\u001b[0m*nu\u001b[1m)\u001b[0m\u001b[35m/\u001b[0m\u001b[1m(\u001b[0mr**\u001b[1;36m2\u001b[0m + z**\u001b[1;36m2\u001b[0m + z*\u001b[1;35msqrt\u001b[0m\u001b[1m(\u001b[0mr**\u001b[1;36m2\u001b[0m + z**\u001b[1;36m2\u001b[0m\u001b[1m)\u001b[0m\u001b[1m)\u001b[0m\u001b[1m)\u001b[0m\u001b[35m/\u001b[0m\u001b[1m(\u001b[0m\u001b[1;36m2\u001b[0m*pi\u001b[1m)\u001b[0m\u001b[1m)\u001b[0m\u001b[35m/\u001b[0m\u001b[95mr\u001b[0m"
      ]
     },
     "execution_count": 72,
     "metadata": {},
     "output_type": "execute_result"
    }
   ],
   "source": [
    "dsr + dtz + (sigma_r- sigma_theta)/r\n"
   ]
  },
  {
   "cell_type": "code",
   "execution_count": 76,
   "id": "6bb85fda",
   "metadata": {},
   "outputs": [
    {
     "name": "stdout",
     "output_type": "stream",
     "text": [
      "Resultado da primeira equação de equilíbrio:\n"
     ]
    },
    {
     "data": {
      "text/html": [
       "<pre style=\"white-space:pre;overflow-x:auto;line-height:normal;font-family:Menlo,'DejaVu Sans Mono',consolas,'Courier New',monospace\"></pre>\n"
      ],
      "text/plain": []
     },
     "metadata": {},
     "output_type": "display_data"
    },
    {
     "data": {
      "text/latex": [
       "$\\displaystyle \\frac{3 P x \\left(2 x^{2} - 3 y^{2} - 3 z^{2} - z \\left(x^{2} - 4 y^{2} + z^{2}\\right) - z \\left(2 x^{2} + 2 y^{2} - 3 z^{2}\\right)\\right)}{2 \\pi \\left(x^{2} + y^{2} + z^{2}\\right)^{\\frac{7}{2}}}$"
      ],
      "text/plain": [
       "\u001b[1;36m3\u001b[0m*P*x*\u001b[1m(\u001b[0m\u001b[1;36m2\u001b[0m*x**\u001b[1;36m2\u001b[0m - \u001b[1;36m3\u001b[0m*y**\u001b[1;36m2\u001b[0m - \u001b[1;36m3\u001b[0m*z**\u001b[1;36m2\u001b[0m - z*\u001b[1m(\u001b[0mx**\u001b[1;36m2\u001b[0m - \u001b[1;36m4\u001b[0m*y**\u001b[1;36m2\u001b[0m + z**\u001b[1;36m2\u001b[0m\u001b[1m)\u001b[0m - z*\u001b[1m(\u001b[0m\u001b[1;36m2\u001b[0m*x**\u001b[1;36m2\u001b[0m + \u001b[1;36m2\u001b[0m*y**\u001b[1;36m2\u001b[0m - \u001b[1;36m3\u001b[0m*z**\u001b[1;36m2\u001b[0m\u001b[1m)\u001b[0m\u001b[1m)\u001b[0m\u001b[35m/\u001b[0m\u001b[1m(\u001b[0m\u001b[1;36m2\u001b[0m*pi*\u001b[1m(\u001b[0mx**\u001b[1;36m2\u001b[0m + y**\u001b[1;36m2\u001b[0m + z**\u001b[1;36m2\u001b[0m\u001b[1m)\u001b[0m**\u001b[1m(\u001b[0m\u001b[1;36m7\u001b[0m/\u001b[1;36m2\u001b[0m\u001b[1m)\u001b[0m\u001b[1m)\u001b[0m"
      ]
     },
     "execution_count": 76,
     "metadata": {},
     "output_type": "execute_result"
    }
   ],
   "source": [
    "import sympy as sp\n",
    "\n",
    "# Define as variáveis simbólicas\n",
    "x, y, z, P = sp.symbols('x y z P')\n",
    "pi = sp.pi\n",
    "\n",
    "# Distância radial\n",
    "r = sp.sqrt(x**2 + y**2 + z**2)\n",
    "\n",
    "# Componentes de tensão da solução de Boussinesq\n",
    "sigma_xx = (P / (2 * pi)) * (1 / r**3 - (3 * x**2) / r**5)\n",
    "sigma_xy = (-3 * P * x * y * z) / (2 * pi * r**5)\n",
    "sigma_xz = (-3 * P * x * z**2) / (2 * pi * r**5)\n",
    "\n",
    "# Derivadas parciais para a primeira equação de equilíbrio\n",
    "dsxx_dx = sp.simplify(sp.diff(sigma_xx, x))\n",
    "dsxy_dy = sp.simplify(sp.diff(sigma_xy, y))\n",
    "dsxz_dz = sp.simplify(sp.diff(sigma_xz, z))\n",
    "\n",
    "# Soma das derivadas (primeira equação de equilíbrio)\n",
    "equilibrio_1 = sp.simplify(dsxx_dx + dsxy_dy + dsxz_dz)\n",
    "\n",
    "print(\"Resultado da primeira equação de equilíbrio:\")\n",
    "equilibrio_1\n"
   ]
  }
 ],
 "metadata": {
  "kernelspec": {
   "display_name": "base",
   "language": "python",
   "name": "python3"
  },
  "language_info": {
   "codemirror_mode": {
    "name": "ipython",
    "version": 3
   },
   "file_extension": ".py",
   "mimetype": "text/x-python",
   "name": "python",
   "nbconvert_exporter": "python",
   "pygments_lexer": "ipython3",
   "version": "3.12.8"
  }
 },
 "nbformat": 4,
 "nbformat_minor": 5
}
