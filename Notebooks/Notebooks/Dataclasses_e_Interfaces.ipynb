{
 "cells": [
  {
   "cell_type": "markdown",
   "metadata": {},
   "source": [
    "# Dataclass\n",
    "\n",
    "O decorador `@dataclass` do módulo `dataclasses` permite inicializar classes com atributos mais facilmente.  \n",
    "Para isso, faz uso de **atributos de classe** com *type annotations*. O código simples abaixo:"
   ]
  },
  {
   "cell_type": "code",
   "execution_count": 1,
   "metadata": {},
   "outputs": [],
   "source": [
    "from dataclasses import dataclass\n",
    "\n",
    "@dataclass\n",
    "class Pessoa:\n",
    "    nome: str\n",
    "    idade: int\n",
    "    peso: float = 50"
   ]
  },
  {
   "cell_type": "markdown",
   "metadata": {},
   "source": [
    "Equivale ao seguinte, com método `__init__` e `__repr__`:"
   ]
  },
  {
   "cell_type": "code",
   "execution_count": 2,
   "metadata": {},
   "outputs": [],
   "source": [
    "class Pessoa:\n",
    "    def __init__(self, nome: str, idade: int, peso: float = 50):\n",
    "        self.nome = nome\n",
    "        self.idade = idade\n",
    "        self.peso = peso\n",
    "    def __repr__(self):\n",
    "        return f\"Pessoa(nome={self.nome},idade={self.idade},peso={self.peso})\" "
   ]
  },
  {
   "cell_type": "code",
   "execution_count": 3,
   "metadata": {},
   "outputs": [
    {
     "data": {
      "text/plain": [
       "Pessoa(nome=João,idade=35,peso=65)"
      ]
     },
     "execution_count": 3,
     "metadata": {},
     "output_type": "execute_result"
    }
   ],
   "source": [
    "john = Pessoa(\"João\",35,65)\n",
    "john"
   ]
  },
  {
   "cell_type": "markdown",
   "metadata": {},
   "source": [
    "# Usando `dataclass` junto com `property`\n",
    "\n",
    "Normalmente é possível definir propriedades que são iniciadas com argumentos de mesmo nome.  \n",
    "O código abaixo define a propriedade `nome` que é inicializada com o argumento `nome` do construtor:"
   ]
  },
  {
   "cell_type": "code",
   "execution_count": 4,
   "metadata": {},
   "outputs": [],
   "source": [
    "class Pessoa:\n",
    "    def __init__(self, nome: str):\n",
    "        self.nome = nome\n",
    "    \n",
    "    @property\n",
    "    def nome(self):\n",
    "        return self._nome\n",
    "    \n",
    "    @nome.setter\n",
    "    def nome(self, value):\n",
    "        self._nome = value"
   ]
  },
  {
   "cell_type": "markdown",
   "metadata": {},
   "source": [
    "Porém isso não é possível de ser feito com `dataclass`, uma vez que a propriedade é um atributo de classe.   \n",
    "Isto é, a propriedade redefiniria o atributo de classe usado para definir a `dataclass` .    \n",
    "Isso é problemático quando o atributo da `dataclass` possui um valor *default*"
   ]
  },
  {
   "cell_type": "code",
   "execution_count": 5,
   "metadata": {},
   "outputs": [
    {
     "name": "stdout",
     "output_type": "stream",
     "text": [
      "Definindo valor de nome =  João\n",
      "Recuperando o valor do nome, o qual é:\n",
      "João\n"
     ]
    }
   ],
   "source": [
    "@dataclass\n",
    "class Pessoa:\n",
    "    nome: str = \"Pedro\"\n",
    "    \n",
    "    @property\n",
    "    def nome(self):\n",
    "        print('Recuperando o valor do nome, o qual é:')\n",
    "        return self._nome\n",
    "    \n",
    "    @nome.setter\n",
    "    def nome(self, value):\n",
    "        print(\"Definindo valor de nome = \", value)\n",
    "        self._nome = value\n",
    "\n",
    "pessoa = Pessoa(\"João\") # passando o atributo não há problema\n",
    "print(pessoa.nome)"
   ]
  },
  {
   "cell_type": "code",
   "execution_count": 6,
   "metadata": {},
   "outputs": [
    {
     "name": "stdout",
     "output_type": "stream",
     "text": [
      "Definindo valor de nome =  <property object at 0x00000199B6DD49F0>\n",
      "Recuperando o valor do nome, o qual é:\n",
      "<property object at 0x00000199B6DD49F0>\n"
     ]
    }
   ],
   "source": [
    "pessoa = Pessoa()  # não passando o atributo, esperando recuperar o default\n",
    "print(pessoa.nome) # aqui ve-se que perde-se a referência ao default"
   ]
  },
  {
   "cell_type": "markdown",
   "metadata": {},
   "source": [
    "Existem duas opões para resolver esse problema."
   ]
  },
  {
   "cell_type": "markdown",
   "metadata": {},
   "source": [
    "## Opção 1: Definir as propriedades depois da `dataclass`\n",
    "\n",
    "Propriedades são atributos de classe, logo pode-se defini-las depois da classe,   \n",
    "usando o nome da classe e *getters* e *setters* com nomes padronizados."
   ]
  },
  {
   "cell_type": "code",
   "execution_count": 7,
   "metadata": {},
   "outputs": [
    {
     "name": "stdout",
     "output_type": "stream",
     "text": [
      "Definindo valor de nome =  Pedro\n",
      "Recuperando o valor do nome, o qual é:\n",
      "Pedro\n"
     ]
    }
   ],
   "source": [
    "@dataclass\n",
    "class Pessoa:\n",
    "    nome: str = \"Pedro\"\n",
    "    \n",
    "    def get_nome(self):\n",
    "        print('Recuperando o valor do nome, o qual é:')\n",
    "        return self._nome\n",
    "    \n",
    "    def set_nome(self, value):\n",
    "        print(\"Definindo valor de nome = \", value)\n",
    "        self._nome = value\n",
    "\n",
    "# Usando o nome da classe para definir a propriedade,\n",
    "# depois de definir a classe\n",
    "Pessoa.nome = property(Pessoa.get_nome, Pessoa.set_nome)\n",
    "\n",
    "pessoa = Pessoa() # aqui já se usa o valor default\n",
    "print(pessoa.nome) # agora não há problema em recuperar a propriedade"
   ]
  },
  {
   "cell_type": "markdown",
   "metadata": {},
   "source": [
    "___\n",
    "É possível definir um novo decorador que aplica a operação acima para todas as propriedades"
   ]
  },
  {
   "cell_type": "code",
   "execution_count": 8,
   "metadata": {},
   "outputs": [],
   "source": [
    "from dataclasses import fields\n",
    "\n",
    "def dataprops(cls):\n",
    "    \"\"\"A decorator to make dataclasses fields acting as properties\n",
    "    getter and setter methods names must initate with `get_` and `set_`\"\"\"\n",
    "    \n",
    "    for field in fields(cls):\n",
    "        setattr(cls,\n",
    "                field.name,\n",
    "                property(\n",
    "                    getattr(cls,f'get_{field.name}'),\n",
    "                    getattr(cls,f'set_{field.name}')\n",
    "                    )\n",
    "                )\n",
    "    return cls"
   ]
  },
  {
   "cell_type": "code",
   "execution_count": 9,
   "metadata": {},
   "outputs": [
    {
     "name": "stdout",
     "output_type": "stream",
     "text": [
      "Definindo valor de nome =  Pedro\n",
      "Definindo valor de idade =  23\n",
      "\n",
      "\n",
      "Recuperando o valor do nome, o qual é:\n",
      "Pedro\n",
      "Recuperando o valor da idade, a qual é:\n",
      "23\n"
     ]
    }
   ],
   "source": [
    "@dataprops\n",
    "@dataclass\n",
    "class Pessoa:\n",
    "    nome: str = \"Pedro\"\n",
    "    idade: int = 23\n",
    "    \n",
    "    def get_nome(self):\n",
    "        print('Recuperando o valor do nome, o qual é:')\n",
    "        return self._nome\n",
    "    \n",
    "    def set_nome(self, value):\n",
    "        print(\"Definindo valor de nome = \", value)\n",
    "        self._nome = value\n",
    "    \n",
    "    def get_idade(self):\n",
    "        print('Recuperando o valor da idade, a qual é:')\n",
    "        return self._idade\n",
    "    \n",
    "    def set_idade(self, value):\n",
    "        print(\"Definindo valor de idade = \", value)\n",
    "        self._idade = value\n",
    "\n",
    "\n",
    "pessoa = Pessoa() # aqui já se usa o valor default\n",
    "# agora não há problema em recuperar a propriedade\n",
    "print('\\n')\n",
    "print(pessoa.nome)\n",
    "print(pessoa.idade)\n"
   ]
  },
  {
   "cell_type": "markdown",
   "metadata": {},
   "source": [
    "## Opção 2: Definir `dataclass` normalmente e herdando seus atributos\n",
    "\n",
    "Essa opção usa duas classes com herança, mas faz uso do decorador `property` ,   \n",
    "e ainda mantém os nomes das propriedades em seus métodos setter e getter"
   ]
  },
  {
   "cell_type": "code",
   "execution_count": 10,
   "metadata": {},
   "outputs": [
    {
     "name": "stdout",
     "output_type": "stream",
     "text": [
      "Definindo valor de nome =  Jonh Doe\n",
      "Definindo valor de idade =  35\n",
      "\n",
      "\n",
      "Recuperando o valor do nome, o qual é:\n",
      "Jonh Doe\n",
      "Recuperando o valor da idade, a qual é:\n",
      "35\n"
     ]
    }
   ],
   "source": [
    "@dataclass\n",
    "class Pessoa:\n",
    "    nome: str = \"Jonh Doe\"\n",
    "    idade: int = 35\n",
    "\n",
    "class PessoaProperty(Pessoa):\n",
    "    \n",
    "    @property\n",
    "    def nome(self):\n",
    "        print('Recuperando o valor do nome, o qual é:')\n",
    "        return self._nome\n",
    "    \n",
    "    @nome.setter\n",
    "    def nome(self, value):\n",
    "        print(\"Definindo valor de nome = \", value)\n",
    "        self._nome = value\n",
    "    \n",
    "    @property\n",
    "    def idade(self):\n",
    "        print('Recuperando o valor da idade, a qual é:')\n",
    "        return self._idade\n",
    "    \n",
    "    @idade.setter\n",
    "    def idade(self, value):\n",
    "        print(\"Definindo valor de idade = \", value)\n",
    "        self._idade = value\n",
    "\n",
    "pessoa = PessoaProperty()\n",
    "print('\\n')\n",
    "print(pessoa.nome)\n",
    "print(pessoa.idade)"
   ]
  },
  {
   "cell_type": "markdown",
   "metadata": {},
   "source": [
    "Deve ser nesta ordem. Quando a ordem é trocada, perde-se a definição das propriedades"
   ]
  },
  {
   "cell_type": "code",
   "execution_count": 11,
   "metadata": {},
   "outputs": [
    {
     "data": {
      "text/plain": [
       "'Jonh Doe'"
      ]
     },
     "execution_count": 11,
     "metadata": {},
     "output_type": "execute_result"
    }
   ],
   "source": [
    "class PessoaProperty:\n",
    "    \n",
    "    @property\n",
    "    def nome(self):\n",
    "        print('Recuperando o valor do nome, o qual é:')\n",
    "        return self._nome\n",
    "    \n",
    "    @nome.setter\n",
    "    def nome(self, value):\n",
    "        print(\"Definindo valor de nome = \", value)\n",
    "        self._nome = value\n",
    "\n",
    "@dataclass\n",
    "class Pessoa(PessoaProperty):\n",
    "    nome: str = \"Jonh Doe\"\n",
    "\n",
    "pessoa = Pessoa()\n",
    "pessoa.nome # não é mais propriedade"
   ]
  }
 ],
 "metadata": {
  "interpreter": {
   "hash": "1359610c268fcd310aeb979c518fab0e221e6b40f568a34f6bf221418055c988"
  },
  "kernelspec": {
   "display_name": "Python 3 (ipykernel)",
   "language": "python",
   "name": "python3"
  },
  "language_info": {
   "codemirror_mode": {
    "name": "ipython",
    "version": 3
   },
   "file_extension": ".py",
   "mimetype": "text/x-python",
   "name": "python",
   "nbconvert_exporter": "python",
   "pygments_lexer": "ipython3",
   "version": "3.9.7"
  }
 },
 "nbformat": 4,
 "nbformat_minor": 2
}
